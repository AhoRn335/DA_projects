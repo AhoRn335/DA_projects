{
 "cells": [
  {
   "cell_type": "markdown",
   "id": "b63d82a5",
   "metadata": {},
   "source": [
    "**Вітаю! У цьому проєкті розглянуті дані файлу Grocery Database.xlsx та проведено їх аналіз. Зміст ноутбуку пропонує зручну навігацію у відповідності до питань, що були поставлені з огляду на специфіку даних.**\n",
    "\n",
    "**Перед безпосередньою роботою з даними було проведено їх попередню обробку та чистку, щоб запобігти виникненню похибок та, як результату, невірних висновків та рекомендацій.**"
   ]
  },
  {
   "cell_type": "markdown",
   "id": "222637f5",
   "metadata": {},
   "source": [
    "## Імпортування бібліотек та читання файлу"
   ]
  },
  {
   "cell_type": "markdown",
   "id": "fa8a7113",
   "metadata": {},
   "source": [
    "### Імпортування бібліотек"
   ]
  },
  {
   "cell_type": "code",
   "execution_count": 1,
   "id": "9f8741e0",
   "metadata": {
    "ExecuteTime": {
     "end_time": "2023-11-06T09:45:12.319019Z",
     "start_time": "2023-11-06T09:45:10.817543Z"
    }
   },
   "outputs": [],
   "source": [
    "import pandas as pd\n",
    "import numpy as np\n",
    "import matplotlib.pyplot as plt\n",
    "import seaborn as sns\n",
    "import datetime\n",
    "import warnings\n",
    "import plotly.express as px\n",
    "\n",
    "warnings.filterwarnings(\"ignore\")\n",
    "\n",
    "from scipy.stats import pearsonr\n",
    "from statsmodels.stats.weightstats import ztest\n",
    "\n",
    "pd.options.display.max_columns = None\n",
    "pd.set_option('display.max_rows', 200)"
   ]
  },
  {
   "cell_type": "markdown",
   "id": "44fe8a1e",
   "metadata": {},
   "source": [
    "Читати дані можна як з допомогою і з допомогою бібліотеки openpyxl, так і з Pandas, але в останньому випадку немає можливості переглянути наявні листки, а також довше відбувається читання даних."
   ]
  },
  {
   "cell_type": "markdown",
   "id": "02ad3413",
   "metadata": {},
   "source": [
    "### Читання файлу з openpyxl"
   ]
  },
  {
   "cell_type": "code",
   "execution_count": 2,
   "id": "cacd339b",
   "metadata": {
    "ExecuteTime": {
     "end_time": "2023-11-06T09:45:14.716578Z",
     "start_time": "2023-11-06T09:45:12.320999Z"
    }
   },
   "outputs": [
    {
     "name": "stdout",
     "output_type": "stream",
     "text": [
      "Requirement already satisfied: openpyxl in /home/valery/anaconda3/envs/myclone/lib/python3.9/site-packages (3.0.10)\r\n",
      "Requirement already satisfied: et_xmlfile in /home/valery/anaconda3/envs/myclone/lib/python3.9/site-packages (from openpyxl) (1.1.0)\r\n"
     ]
    }
   ],
   "source": [
    "!pip install openpyxl"
   ]
  },
  {
   "cell_type": "code",
   "execution_count": 3,
   "id": "b5c4625f",
   "metadata": {
    "ExecuteTime": {
     "end_time": "2023-11-06T09:45:14.725384Z",
     "start_time": "2023-11-06T09:45:14.720110Z"
    }
   },
   "outputs": [],
   "source": [
    "path_to_file = 'Grocery Database.xlsx'"
   ]
  },
  {
   "cell_type": "markdown",
   "id": "8a879106",
   "metadata": {},
   "source": [
    "Можемо переглянути, які є листки у файлі."
   ]
  },
  {
   "cell_type": "code",
   "execution_count": 4,
   "id": "362e53db",
   "metadata": {
    "ExecuteTime": {
     "end_time": "2023-11-06T09:45:20.618074Z",
     "start_time": "2023-11-06T09:45:14.727492Z"
    }
   },
   "outputs": [
    {
     "data": {
      "text/plain": [
       "['Grosto DB', 'Sheet2', 'Fact Summary']"
      ]
     },
     "execution_count": 4,
     "metadata": {},
     "output_type": "execute_result"
    }
   ],
   "source": [
    "xl = pd.ExcelFile(path_to_file)\n",
    "xl.sheet_names"
   ]
  },
  {
   "cell_type": "markdown",
   "id": "9f225929",
   "metadata": {},
   "source": [
    "Або отримати доступ до одного конкретного листка."
   ]
  },
  {
   "cell_type": "code",
   "execution_count": 5,
   "id": "d4b973cd",
   "metadata": {
    "ExecuteTime": {
     "end_time": "2023-11-06T09:45:20.638716Z",
     "start_time": "2023-11-06T09:45:20.619256Z"
    }
   },
   "outputs": [
    {
     "data": {
      "text/html": [
       "<div>\n",
       "<style scoped>\n",
       "    .dataframe tbody tr th:only-of-type {\n",
       "        vertical-align: middle;\n",
       "    }\n",
       "\n",
       "    .dataframe tbody tr th {\n",
       "        vertical-align: top;\n",
       "    }\n",
       "\n",
       "    .dataframe thead th {\n",
       "        text-align: right;\n",
       "    }\n",
       "</style>\n",
       "<table border=\"1\" class=\"dataframe\">\n",
       "  <thead>\n",
       "    <tr style=\"text-align: right;\">\n",
       "      <th></th>\n",
       "      <th>S.No.</th>\n",
       "      <th>Column Name</th>\n",
       "      <th>Description of the Column names</th>\n",
       "    </tr>\n",
       "  </thead>\n",
       "  <tbody>\n",
       "    <tr>\n",
       "      <th>0</th>\n",
       "      <td>1</td>\n",
       "      <td>Receipt Number</td>\n",
       "      <td>Transaction Number</td>\n",
       "    </tr>\n",
       "    <tr>\n",
       "      <th>1</th>\n",
       "      <td>2</td>\n",
       "      <td>Date</td>\n",
       "      <td>Date of Transaction</td>\n",
       "    </tr>\n",
       "    <tr>\n",
       "      <th>2</th>\n",
       "      <td>3</td>\n",
       "      <td>Year</td>\n",
       "      <td>Year of Transaction</td>\n",
       "    </tr>\n",
       "    <tr>\n",
       "      <th>3</th>\n",
       "      <td>4</td>\n",
       "      <td>Month</td>\n",
       "      <td>Month of Transaction</td>\n",
       "    </tr>\n",
       "    <tr>\n",
       "      <th>4</th>\n",
       "      <td>5</td>\n",
       "      <td>Time</td>\n",
       "      <td>Time of the transaction</td>\n",
       "    </tr>\n",
       "    <tr>\n",
       "      <th>5</th>\n",
       "      <td>6</td>\n",
       "      <td>Mobile Number</td>\n",
       "      <td>Monbile number of the customer</td>\n",
       "    </tr>\n",
       "    <tr>\n",
       "      <th>6</th>\n",
       "      <td>7</td>\n",
       "      <td>Membership ID</td>\n",
       "      <td>Unique Membership ID of the Customer</td>\n",
       "    </tr>\n",
       "    <tr>\n",
       "      <th>7</th>\n",
       "      <td>8</td>\n",
       "      <td>Loyalty Card Points</td>\n",
       "      <td>Loyalty Points earned by customer (10 Points/1...</td>\n",
       "    </tr>\n",
       "    <tr>\n",
       "      <th>8</th>\n",
       "      <td>9</td>\n",
       "      <td>Age</td>\n",
       "      <td>Age of the Customer in the Company Database</td>\n",
       "    </tr>\n",
       "    <tr>\n",
       "      <th>9</th>\n",
       "      <td>10</td>\n",
       "      <td>Gender</td>\n",
       "      <td>Gender of the customer</td>\n",
       "    </tr>\n",
       "    <tr>\n",
       "      <th>10</th>\n",
       "      <td>11</td>\n",
       "      <td>City</td>\n",
       "      <td>City Name of store</td>\n",
       "    </tr>\n",
       "    <tr>\n",
       "      <th>11</th>\n",
       "      <td>12</td>\n",
       "      <td>Country</td>\n",
       "      <td>Country Name of store</td>\n",
       "    </tr>\n",
       "    <tr>\n",
       "      <th>12</th>\n",
       "      <td>13</td>\n",
       "      <td>Category</td>\n",
       "      <td>Category of Item bought by customer</td>\n",
       "    </tr>\n",
       "    <tr>\n",
       "      <th>13</th>\n",
       "      <td>14</td>\n",
       "      <td>Sub_Category</td>\n",
       "      <td>Sub-Category of Item bought by customer</td>\n",
       "    </tr>\n",
       "    <tr>\n",
       "      <th>14</th>\n",
       "      <td>15</td>\n",
       "      <td>Items</td>\n",
       "      <td>Name if the item  bought by customer</td>\n",
       "    </tr>\n",
       "    <tr>\n",
       "      <th>15</th>\n",
       "      <td>16</td>\n",
       "      <td>Brand</td>\n",
       "      <td>Brand of the Item bought</td>\n",
       "    </tr>\n",
       "    <tr>\n",
       "      <th>16</th>\n",
       "      <td>17</td>\n",
       "      <td>Description</td>\n",
       "      <td>Description of the Item (weight/volume/pack si...</td>\n",
       "    </tr>\n",
       "    <tr>\n",
       "      <th>17</th>\n",
       "      <td>18</td>\n",
       "      <td>Price</td>\n",
       "      <td>Price per unit of the Item</td>\n",
       "    </tr>\n",
       "    <tr>\n",
       "      <th>18</th>\n",
       "      <td>19</td>\n",
       "      <td>QTY</td>\n",
       "      <td>Quantity bought by the cistomer</td>\n",
       "    </tr>\n",
       "    <tr>\n",
       "      <th>19</th>\n",
       "      <td>20</td>\n",
       "      <td>DISC</td>\n",
       "      <td>Discount offered by store</td>\n",
       "    </tr>\n",
       "    <tr>\n",
       "      <th>20</th>\n",
       "      <td>21</td>\n",
       "      <td>Net Bill Amount</td>\n",
       "      <td>Amount exclusive of tax payable to customer</td>\n",
       "    </tr>\n",
       "    <tr>\n",
       "      <th>21</th>\n",
       "      <td>22</td>\n",
       "      <td>GST</td>\n",
       "      <td>Tax Payable</td>\n",
       "    </tr>\n",
       "    <tr>\n",
       "      <th>22</th>\n",
       "      <td>23</td>\n",
       "      <td>Gross Bill Amount</td>\n",
       "      <td>Gross Bill to be paid by customer inclusive of...</td>\n",
       "    </tr>\n",
       "    <tr>\n",
       "      <th>23</th>\n",
       "      <td>24</td>\n",
       "      <td>Payment Mode</td>\n",
       "      <td>Mode of payment opted by customer</td>\n",
       "    </tr>\n",
       "    <tr>\n",
       "      <th>24</th>\n",
       "      <td>25</td>\n",
       "      <td>Bank Name</td>\n",
       "      <td>Name of the Bank</td>\n",
       "    </tr>\n",
       "    <tr>\n",
       "      <th>25</th>\n",
       "      <td>26</td>\n",
       "      <td>% Profit Margin</td>\n",
       "      <td>Percentage profit margin of store</td>\n",
       "    </tr>\n",
       "    <tr>\n",
       "      <th>26</th>\n",
       "      <td>27</td>\n",
       "      <td>% Operating Cost</td>\n",
       "      <td>Percentage operating cost of store</td>\n",
       "    </tr>\n",
       "    <tr>\n",
       "      <th>27</th>\n",
       "      <td>28</td>\n",
       "      <td>% Product Cost</td>\n",
       "      <td>Percentage product cost to store</td>\n",
       "    </tr>\n",
       "    <tr>\n",
       "      <th>28</th>\n",
       "      <td>29</td>\n",
       "      <td>Profit Margin</td>\n",
       "      <td>Profit Margin earned by store</td>\n",
       "    </tr>\n",
       "    <tr>\n",
       "      <th>29</th>\n",
       "      <td>30</td>\n",
       "      <td>Operating Cost</td>\n",
       "      <td>Operating cost beared by the store</td>\n",
       "    </tr>\n",
       "    <tr>\n",
       "      <th>30</th>\n",
       "      <td>31</td>\n",
       "      <td>Product Cost</td>\n",
       "      <td>Product Cost for the store</td>\n",
       "    </tr>\n",
       "  </tbody>\n",
       "</table>\n",
       "</div>"
      ],
      "text/plain": [
       "    S.No.          Column Name  \\\n",
       "0       1       Receipt Number   \n",
       "1       2                 Date   \n",
       "2       3                 Year   \n",
       "3       4                Month   \n",
       "4       5                 Time   \n",
       "5       6        Mobile Number   \n",
       "6       7        Membership ID   \n",
       "7       8  Loyalty Card Points   \n",
       "8       9                  Age   \n",
       "9      10               Gender   \n",
       "10     11                 City   \n",
       "11     12              Country   \n",
       "12     13             Category   \n",
       "13     14         Sub_Category   \n",
       "14     15                Items   \n",
       "15     16               Brand    \n",
       "16     17         Description    \n",
       "17     18                Price   \n",
       "18     19                  QTY   \n",
       "19     20                 DISC   \n",
       "20     21      Net Bill Amount   \n",
       "21     22                  GST   \n",
       "22     23    Gross Bill Amount   \n",
       "23     24         Payment Mode   \n",
       "24     25            Bank Name   \n",
       "25     26      % Profit Margin   \n",
       "26     27     % Operating Cost   \n",
       "27     28       % Product Cost   \n",
       "28     29        Profit Margin   \n",
       "29     30       Operating Cost   \n",
       "30     31         Product Cost   \n",
       "\n",
       "                      Description of the Column names  \n",
       "0                                  Transaction Number  \n",
       "1                                 Date of Transaction  \n",
       "2                                 Year of Transaction  \n",
       "3                                Month of Transaction  \n",
       "4                             Time of the transaction  \n",
       "5                      Monbile number of the customer  \n",
       "6                Unique Membership ID of the Customer  \n",
       "7   Loyalty Points earned by customer (10 Points/1...  \n",
       "8         Age of the Customer in the Company Database  \n",
       "9                              Gender of the customer  \n",
       "10                                 City Name of store  \n",
       "11                              Country Name of store  \n",
       "12                Category of Item bought by customer  \n",
       "13            Sub-Category of Item bought by customer  \n",
       "14               Name if the item  bought by customer  \n",
       "15                           Brand of the Item bought  \n",
       "16  Description of the Item (weight/volume/pack si...  \n",
       "17                         Price per unit of the Item  \n",
       "18                    Quantity bought by the cistomer  \n",
       "19                          Discount offered by store  \n",
       "20        Amount exclusive of tax payable to customer  \n",
       "21                                        Tax Payable  \n",
       "22  Gross Bill to be paid by customer inclusive of...  \n",
       "23                  Mode of payment opted by customer  \n",
       "24                                   Name of the Bank  \n",
       "25                  Percentage profit margin of store  \n",
       "26                 Percentage operating cost of store  \n",
       "27                   Percentage product cost to store  \n",
       "28                      Profit Margin earned by store  \n",
       "29                 Operating cost beared by the store  \n",
       "30                         Product Cost for the store  "
      ]
     },
     "execution_count": 5,
     "metadata": {},
     "output_type": "execute_result"
    }
   ],
   "source": [
    "xl.parse('Fact Summary')"
   ]
  },
  {
   "cell_type": "markdown",
   "id": "b1021cba",
   "metadata": {},
   "source": [
    "### Читання файлу з Pandas"
   ]
  },
  {
   "cell_type": "code",
   "execution_count": 6,
   "id": "2fb8f4ad",
   "metadata": {
    "ExecuteTime": {
     "end_time": "2023-11-06T09:45:36.931037Z",
     "start_time": "2023-11-06T09:45:20.640017Z"
    }
   },
   "outputs": [],
   "source": [
    "df = pd.read_excel(path_to_file)"
   ]
  },
  {
   "cell_type": "markdown",
   "id": "cd83f8a6",
   "metadata": {},
   "source": [
    "## Попередня обробка даних"
   ]
  },
  {
   "cell_type": "markdown",
   "id": "524b531b",
   "metadata": {},
   "source": [
    "### Загальна інформація про дані"
   ]
  },
  {
   "cell_type": "markdown",
   "id": "768a8748",
   "metadata": {},
   "source": [
    "Подивимося спочатку на данні - як вони виглядають та які типи даних ми маємо у нашому наборі. "
   ]
  },
  {
   "cell_type": "code",
   "execution_count": 7,
   "id": "cfc494f7",
   "metadata": {
    "ExecuteTime": {
     "end_time": "2023-11-06T09:45:36.935555Z",
     "start_time": "2023-11-06T09:45:36.932477Z"
    }
   },
   "outputs": [
    {
     "data": {
      "text/plain": [
       "(50447, 32)"
      ]
     },
     "execution_count": 7,
     "metadata": {},
     "output_type": "execute_result"
    }
   ],
   "source": [
    "df.shape"
   ]
  },
  {
   "cell_type": "markdown",
   "id": "d5ae356d",
   "metadata": {},
   "source": [
    "Бачимо, що набір містить 50447 рядків та 32 колонки. "
   ]
  },
  {
   "cell_type": "markdown",
   "id": "392e0ca9",
   "metadata": {},
   "source": [
    "Переглянемо перші три записи з набору, а після цього - загальну інформацію щодо типів даних у кожній колонці, кількісті кожного типу даних у наборі та пам'яті, яку займає набір."
   ]
  },
  {
   "cell_type": "code",
   "execution_count": 8,
   "id": "ad9952df",
   "metadata": {
    "ExecuteTime": {
     "end_time": "2023-11-06T09:45:36.954183Z",
     "start_time": "2023-11-06T09:45:36.939266Z"
    },
    "scrolled": true
   },
   "outputs": [
    {
     "data": {
      "text/html": [
       "<div>\n",
       "<style scoped>\n",
       "    .dataframe tbody tr th:only-of-type {\n",
       "        vertical-align: middle;\n",
       "    }\n",
       "\n",
       "    .dataframe tbody tr th {\n",
       "        vertical-align: top;\n",
       "    }\n",
       "\n",
       "    .dataframe thead th {\n",
       "        text-align: right;\n",
       "    }\n",
       "</style>\n",
       "<table border=\"1\" class=\"dataframe\">\n",
       "  <thead>\n",
       "    <tr style=\"text-align: right;\">\n",
       "      <th></th>\n",
       "      <th>Receipt Number</th>\n",
       "      <th>Date</th>\n",
       "      <th>Year</th>\n",
       "      <th>Month</th>\n",
       "      <th>Time</th>\n",
       "      <th>Mobile Number</th>\n",
       "      <th>Membership ID</th>\n",
       "      <th>Loyalty Card Points</th>\n",
       "      <th>Age</th>\n",
       "      <th>Gender</th>\n",
       "      <th>City</th>\n",
       "      <th>Country</th>\n",
       "      <th>Category</th>\n",
       "      <th>Sub_Category</th>\n",
       "      <th>Items</th>\n",
       "      <th>Brand</th>\n",
       "      <th>Description</th>\n",
       "      <th>Price</th>\n",
       "      <th>QTY</th>\n",
       "      <th>DISC</th>\n",
       "      <th>Amount</th>\n",
       "      <th>Net Bill Amount</th>\n",
       "      <th>GST</th>\n",
       "      <th>Gross Bill Amount</th>\n",
       "      <th>Payment Mode</th>\n",
       "      <th>Bank Name</th>\n",
       "      <th>% Profit Margin</th>\n",
       "      <th>% Operating Cost</th>\n",
       "      <th>% Product Cost</th>\n",
       "      <th>Profit Margin</th>\n",
       "      <th>Operating Cost</th>\n",
       "      <th>Product Cost</th>\n",
       "    </tr>\n",
       "  </thead>\n",
       "  <tbody>\n",
       "    <tr>\n",
       "      <th>0</th>\n",
       "      <td>GIJ00001</td>\n",
       "      <td>2016-01-02</td>\n",
       "      <td>2016</td>\n",
       "      <td>1</td>\n",
       "      <td>10:08:03.260000</td>\n",
       "      <td>9793548581</td>\n",
       "      <td>MIDID0001</td>\n",
       "      <td>1</td>\n",
       "      <td>36</td>\n",
       "      <td>Male</td>\n",
       "      <td>Jakarta</td>\n",
       "      <td>Indonesia</td>\n",
       "      <td>Choco, Snacks, Sweets</td>\n",
       "      <td>Biscuits &amp; Crackers</td>\n",
       "      <td>Oreo mini oreo sharepack</td>\n",
       "      <td>Oreo</td>\n",
       "      <td>540 g</td>\n",
       "      <td>3.09</td>\n",
       "      <td>4</td>\n",
       "      <td>0.02</td>\n",
       "      <td>12.1128</td>\n",
       "      <td>12.1128</td>\n",
       "      <td>0.1</td>\n",
       "      <td>13.32408</td>\n",
       "      <td>Card</td>\n",
       "      <td>Enterprise Bank</td>\n",
       "      <td>0.150</td>\n",
       "      <td>0.15</td>\n",
       "      <td>0.700</td>\n",
       "      <td>1.85400</td>\n",
       "      <td>1.8540</td>\n",
       "      <td>8.65200</td>\n",
       "    </tr>\n",
       "    <tr>\n",
       "      <th>1</th>\n",
       "      <td>GIJ00002</td>\n",
       "      <td>2016-01-02</td>\n",
       "      <td>2016</td>\n",
       "      <td>1</td>\n",
       "      <td>15:46:50.832000</td>\n",
       "      <td>9938441276</td>\n",
       "      <td>MIDID0002</td>\n",
       "      <td>2</td>\n",
       "      <td>54</td>\n",
       "      <td>Male</td>\n",
       "      <td>Jakarta</td>\n",
       "      <td>Indonesia</td>\n",
       "      <td>Wines, Beers &amp; Spirits</td>\n",
       "      <td>Beer</td>\n",
       "      <td>Ashai Lager Beer</td>\n",
       "      <td>Ashai</td>\n",
       "      <td>480 ml</td>\n",
       "      <td>11.60</td>\n",
       "      <td>2</td>\n",
       "      <td>0.01</td>\n",
       "      <td>22.9680</td>\n",
       "      <td>22.9680</td>\n",
       "      <td>0.1</td>\n",
       "      <td>25.26480</td>\n",
       "      <td>Card</td>\n",
       "      <td>Philippine Veterans Bank</td>\n",
       "      <td>0.118</td>\n",
       "      <td>0.15</td>\n",
       "      <td>0.732</td>\n",
       "      <td>2.73760</td>\n",
       "      <td>3.4800</td>\n",
       "      <td>16.98240</td>\n",
       "    </tr>\n",
       "    <tr>\n",
       "      <th>2</th>\n",
       "      <td>GIJ00003</td>\n",
       "      <td>2016-01-02</td>\n",
       "      <td>2016</td>\n",
       "      <td>1</td>\n",
       "      <td>11:28:52.166000</td>\n",
       "      <td>9976742552</td>\n",
       "      <td>MIDID0003</td>\n",
       "      <td>1</td>\n",
       "      <td>16</td>\n",
       "      <td>Female</td>\n",
       "      <td>Jakarta</td>\n",
       "      <td>Indonesia</td>\n",
       "      <td>Fruit &amp; Vegetable</td>\n",
       "      <td>Frozen Fruits</td>\n",
       "      <td>Cascadian farm organic strawberries</td>\n",
       "      <td>Cascadiam Farm</td>\n",
       "      <td>1 Kg</td>\n",
       "      <td>13.31</td>\n",
       "      <td>1</td>\n",
       "      <td>0.01</td>\n",
       "      <td>13.1769</td>\n",
       "      <td>38.3526</td>\n",
       "      <td>0.1</td>\n",
       "      <td>42.18786</td>\n",
       "      <td>Cash</td>\n",
       "      <td>BDO Unibank</td>\n",
       "      <td>0.147</td>\n",
       "      <td>0.15</td>\n",
       "      <td>0.703</td>\n",
       "      <td>1.95657</td>\n",
       "      <td>1.9965</td>\n",
       "      <td>9.35693</td>\n",
       "    </tr>\n",
       "    <tr>\n",
       "      <th>3</th>\n",
       "      <td>GIJ00003</td>\n",
       "      <td>2016-01-02</td>\n",
       "      <td>2016</td>\n",
       "      <td>1</td>\n",
       "      <td>11:28:52.166000</td>\n",
       "      <td>9976742552</td>\n",
       "      <td>MIDID0003</td>\n",
       "      <td>1</td>\n",
       "      <td>16</td>\n",
       "      <td>Female</td>\n",
       "      <td>Jakarta</td>\n",
       "      <td>Indonesia</td>\n",
       "      <td>Fruit &amp; Vegetable</td>\n",
       "      <td>Fresh Vegetables</td>\n",
       "      <td>Oraganic 4 Life Red onions</td>\n",
       "      <td>Organic 4 Life</td>\n",
       "      <td>270 g</td>\n",
       "      <td>3.52</td>\n",
       "      <td>1</td>\n",
       "      <td>0.01</td>\n",
       "      <td>3.4848</td>\n",
       "      <td>38.3526</td>\n",
       "      <td>0.1</td>\n",
       "      <td>42.18786</td>\n",
       "      <td>Cash</td>\n",
       "      <td>BDO Unibank</td>\n",
       "      <td>0.095</td>\n",
       "      <td>0.15</td>\n",
       "      <td>0.755</td>\n",
       "      <td>0.33440</td>\n",
       "      <td>0.5280</td>\n",
       "      <td>2.65760</td>\n",
       "    </tr>\n",
       "    <tr>\n",
       "      <th>4</th>\n",
       "      <td>GIJ00003</td>\n",
       "      <td>2016-01-02</td>\n",
       "      <td>2016</td>\n",
       "      <td>1</td>\n",
       "      <td>11:28:52.166000</td>\n",
       "      <td>9976742552</td>\n",
       "      <td>MIDID0003</td>\n",
       "      <td>2</td>\n",
       "      <td>16</td>\n",
       "      <td>Female</td>\n",
       "      <td>Jakarta</td>\n",
       "      <td>Indonesia</td>\n",
       "      <td>Fruit &amp; Vegetable</td>\n",
       "      <td>Lettuce &amp; Salads</td>\n",
       "      <td>LIVEWELL Italian mesclun salad</td>\n",
       "      <td>LIVEWELL</td>\n",
       "      <td>570 g</td>\n",
       "      <td>4.41</td>\n",
       "      <td>1</td>\n",
       "      <td>0.01</td>\n",
       "      <td>4.3659</td>\n",
       "      <td>38.3526</td>\n",
       "      <td>0.1</td>\n",
       "      <td>42.18786</td>\n",
       "      <td>Cash</td>\n",
       "      <td>BDO Unibank</td>\n",
       "      <td>0.120</td>\n",
       "      <td>0.15</td>\n",
       "      <td>0.730</td>\n",
       "      <td>0.52920</td>\n",
       "      <td>0.6615</td>\n",
       "      <td>3.21930</td>\n",
       "    </tr>\n",
       "  </tbody>\n",
       "</table>\n",
       "</div>"
      ],
      "text/plain": [
       "  Receipt Number       Date  Year  Month             Time  Mobile Number  \\\n",
       "0       GIJ00001 2016-01-02  2016      1  10:08:03.260000     9793548581   \n",
       "1       GIJ00002 2016-01-02  2016      1  15:46:50.832000     9938441276   \n",
       "2       GIJ00003 2016-01-02  2016      1  11:28:52.166000     9976742552   \n",
       "3       GIJ00003 2016-01-02  2016      1  11:28:52.166000     9976742552   \n",
       "4       GIJ00003 2016-01-02  2016      1  11:28:52.166000     9976742552   \n",
       "\n",
       "  Membership ID  Loyalty Card Points  Age  Gender     City    Country  \\\n",
       "0     MIDID0001                    1   36    Male  Jakarta  Indonesia   \n",
       "1     MIDID0002                    2   54    Male  Jakarta  Indonesia   \n",
       "2     MIDID0003                    1   16  Female  Jakarta  Indonesia   \n",
       "3     MIDID0003                    1   16  Female  Jakarta  Indonesia   \n",
       "4     MIDID0003                    2   16  Female  Jakarta  Indonesia   \n",
       "\n",
       "                 Category         Sub_Category  \\\n",
       "0   Choco, Snacks, Sweets  Biscuits & Crackers   \n",
       "1  Wines, Beers & Spirits                 Beer   \n",
       "2       Fruit & Vegetable        Frozen Fruits   \n",
       "3       Fruit & Vegetable     Fresh Vegetables   \n",
       "4       Fruit & Vegetable     Lettuce & Salads   \n",
       "\n",
       "                                 Items          Brand  Description   Price  \\\n",
       "0             Oreo mini oreo sharepack            Oreo        540 g   3.09   \n",
       "1                     Ashai Lager Beer           Ashai       480 ml  11.60   \n",
       "2  Cascadian farm organic strawberries  Cascadiam Farm         1 Kg  13.31   \n",
       "3           Oraganic 4 Life Red onions  Organic 4 Life        270 g   3.52   \n",
       "4       LIVEWELL Italian mesclun salad        LIVEWELL        570 g   4.41   \n",
       "\n",
       "   QTY  DISC   Amount  Net Bill Amount  GST  Gross Bill Amount Payment Mode  \\\n",
       "0    4  0.02  12.1128          12.1128  0.1           13.32408         Card   \n",
       "1    2  0.01  22.9680          22.9680  0.1           25.26480         Card   \n",
       "2    1  0.01  13.1769          38.3526  0.1           42.18786         Cash   \n",
       "3    1  0.01   3.4848          38.3526  0.1           42.18786         Cash   \n",
       "4    1  0.01   4.3659          38.3526  0.1           42.18786         Cash   \n",
       "\n",
       "                  Bank Name  % Profit Margin  % Operating Cost  \\\n",
       "0           Enterprise Bank            0.150              0.15   \n",
       "1  Philippine Veterans Bank            0.118              0.15   \n",
       "2               BDO Unibank            0.147              0.15   \n",
       "3               BDO Unibank            0.095              0.15   \n",
       "4               BDO Unibank            0.120              0.15   \n",
       "\n",
       "   % Product Cost  Profit Margin  Operating Cost  Product Cost  \n",
       "0           0.700        1.85400          1.8540       8.65200  \n",
       "1           0.732        2.73760          3.4800      16.98240  \n",
       "2           0.703        1.95657          1.9965       9.35693  \n",
       "3           0.755        0.33440          0.5280       2.65760  \n",
       "4           0.730        0.52920          0.6615       3.21930  "
      ]
     },
     "execution_count": 8,
     "metadata": {},
     "output_type": "execute_result"
    }
   ],
   "source": [
    "df.head()"
   ]
  },
  {
   "cell_type": "code",
   "execution_count": 9,
   "id": "19372c82",
   "metadata": {
    "ExecuteTime": {
     "end_time": "2023-11-06T09:45:37.021989Z",
     "start_time": "2023-11-06T09:45:36.955410Z"
    },
    "scrolled": true
   },
   "outputs": [
    {
     "name": "stdout",
     "output_type": "stream",
     "text": [
      "<class 'pandas.core.frame.DataFrame'>\n",
      "RangeIndex: 50447 entries, 0 to 50446\n",
      "Data columns (total 32 columns):\n",
      " #   Column               Non-Null Count  Dtype         \n",
      "---  ------               --------------  -----         \n",
      " 0   Receipt Number       50447 non-null  object        \n",
      " 1   Date                 50447 non-null  datetime64[ns]\n",
      " 2   Year                 50447 non-null  int64         \n",
      " 3   Month                50447 non-null  int64         \n",
      " 4   Time                 50447 non-null  object        \n",
      " 5   Mobile Number        50447 non-null  int64         \n",
      " 6   Membership ID        50447 non-null  object        \n",
      " 7   Loyalty Card Points  50447 non-null  int64         \n",
      " 8   Age                  50447 non-null  int64         \n",
      " 9   Gender               50447 non-null  object        \n",
      " 10  City                 50447 non-null  object        \n",
      " 11  Country              50447 non-null  object        \n",
      " 12  Category             50447 non-null  object        \n",
      " 13  Sub_Category         50447 non-null  object        \n",
      " 14  Items                50447 non-null  object        \n",
      " 15  Brand                50447 non-null  object        \n",
      " 16  Description          50447 non-null  object        \n",
      " 17  Price                50447 non-null  float64       \n",
      " 18  QTY                  50447 non-null  int64         \n",
      " 19  DISC                 50447 non-null  float64       \n",
      " 20  Amount               50447 non-null  float64       \n",
      " 21  Net Bill Amount      50447 non-null  float64       \n",
      " 22  GST                  50447 non-null  float64       \n",
      " 23  Gross Bill Amount    50447 non-null  float64       \n",
      " 24  Payment Mode         50447 non-null  object        \n",
      " 25  Bank Name            50447 non-null  object        \n",
      " 26  % Profit Margin      50447 non-null  float64       \n",
      " 27  % Operating Cost     50447 non-null  float64       \n",
      " 28  % Product Cost       50447 non-null  float64       \n",
      " 29  Profit Margin        50447 non-null  float64       \n",
      " 30  Operating Cost       50447 non-null  float64       \n",
      " 31  Product Cost         50447 non-null  float64       \n",
      "dtypes: datetime64[ns](1), float64(12), int64(6), object(13)\n",
      "memory usage: 12.3+ MB\n"
     ]
    }
   ],
   "source": [
    "df.info()"
   ]
  },
  {
   "cell_type": "markdown",
   "id": "5f952cff",
   "metadata": {},
   "source": [
    "Метод `.info` у деякому сенсі є альтернативою виклику `.shape` з точки зору отримання інформації про кількість рядків та колонок, але надає і більш повну інформацію про кожну колонку (у тому числі і про пропущенні дані)."
   ]
  },
  {
   "cell_type": "markdown",
   "id": "f9254f2e",
   "metadata": {},
   "source": [
    "### Корекція назв колонок"
   ]
  },
  {
   "cell_type": "markdown",
   "id": "18f6fa5e",
   "metadata": {},
   "source": [
    "Під час виклику різних колонок виявилось, що це неможливо зробити для колонок Description та Brand, хоча вони є у файлі та у переліку вище. Тому виникає думка про те, що треба перевірити список колонок у наборі даних."
   ]
  },
  {
   "cell_type": "code",
   "execution_count": 10,
   "id": "11c220bd",
   "metadata": {
    "ExecuteTime": {
     "end_time": "2023-11-06T09:45:37.027138Z",
     "start_time": "2023-11-06T09:45:37.023447Z"
    }
   },
   "outputs": [
    {
     "data": {
      "text/plain": [
       "Index(['Receipt Number', 'Date', 'Year', 'Month', 'Time', 'Mobile Number',\n",
       "       'Membership ID', 'Loyalty Card Points', 'Age', 'Gender', 'City',\n",
       "       'Country', 'Category', 'Sub_Category', 'Items', 'Brand ',\n",
       "       'Description ', 'Price', 'QTY', 'DISC', 'Amount', 'Net Bill Amount',\n",
       "       'GST', 'Gross Bill Amount', 'Payment Mode', 'Bank Name',\n",
       "       '% Profit Margin', '% Operating Cost', '% Product Cost',\n",
       "       'Profit Margin', 'Operating Cost', 'Product Cost'],\n",
       "      dtype='object')"
      ]
     },
     "execution_count": 10,
     "metadata": {},
     "output_type": "execute_result"
    }
   ],
   "source": [
    "df.columns"
   ]
  },
  {
   "cell_type": "markdown",
   "id": "374325e1",
   "metadata": {},
   "source": [
    "Бачимо, що помилку викликає пробіл після назви, який для зручності можна видалити. "
   ]
  },
  {
   "cell_type": "code",
   "execution_count": 11,
   "id": "e57a28c0",
   "metadata": {
    "ExecuteTime": {
     "end_time": "2023-11-06T09:45:37.039250Z",
     "start_time": "2023-11-06T09:45:37.028608Z"
    }
   },
   "outputs": [],
   "source": [
    "df.rename(columns={'Description ': 'Description', 'Brand ': 'Brand'}, inplace=True)"
   ]
  },
  {
   "cell_type": "markdown",
   "id": "3afe0361",
   "metadata": {},
   "source": [
    "### Перевірка на пропущені данні"
   ]
  },
  {
   "cell_type": "markdown",
   "id": "8ad40755",
   "metadata": {},
   "source": [
    "Далі цікаво подивитися на пропущенні значення: чи є вони і де саме. На щастя, в цьому датафреймі їх немає."
   ]
  },
  {
   "cell_type": "code",
   "execution_count": 12,
   "id": "b8418ce1",
   "metadata": {
    "ExecuteTime": {
     "end_time": "2023-11-06T09:45:37.109238Z",
     "start_time": "2023-11-06T09:45:37.040609Z"
    }
   },
   "outputs": [
    {
     "data": {
      "text/plain": [
       "Receipt Number         0\n",
       "Date                   0\n",
       "Year                   0\n",
       "Month                  0\n",
       "Time                   0\n",
       "Mobile Number          0\n",
       "Membership ID          0\n",
       "Loyalty Card Points    0\n",
       "Age                    0\n",
       "Gender                 0\n",
       "City                   0\n",
       "Country                0\n",
       "Category               0\n",
       "Sub_Category           0\n",
       "Items                  0\n",
       "Brand                  0\n",
       "Description            0\n",
       "Price                  0\n",
       "QTY                    0\n",
       "DISC                   0\n",
       "Amount                 0\n",
       "Net Bill Amount        0\n",
       "GST                    0\n",
       "Gross Bill Amount      0\n",
       "Payment Mode           0\n",
       "Bank Name              0\n",
       "% Profit Margin        0\n",
       "% Operating Cost       0\n",
       "% Product Cost         0\n",
       "Profit Margin          0\n",
       "Operating Cost         0\n",
       "Product Cost           0\n",
       "dtype: int64"
      ]
     },
     "execution_count": 12,
     "metadata": {},
     "output_type": "execute_result"
    }
   ],
   "source": [
    "df.isna().sum()"
   ]
  },
  {
   "cell_type": "markdown",
   "id": "c77ddc65",
   "metadata": {},
   "source": [
    "### Перетворення типів даних"
   ]
  },
  {
   "cell_type": "markdown",
   "id": "95332c60",
   "metadata": {},
   "source": [
    "Переглянемо уважніше типи даних."
   ]
  },
  {
   "cell_type": "code",
   "execution_count": 13,
   "id": "c7ea0e77",
   "metadata": {
    "ExecuteTime": {
     "end_time": "2023-11-06T09:45:37.114308Z",
     "start_time": "2023-11-06T09:45:37.110639Z"
    }
   },
   "outputs": [
    {
     "data": {
      "text/plain": [
       "Receipt Number                 object\n",
       "Date                   datetime64[ns]\n",
       "Year                            int64\n",
       "Month                           int64\n",
       "Time                           object\n",
       "Mobile Number                   int64\n",
       "Membership ID                  object\n",
       "Loyalty Card Points             int64\n",
       "Age                             int64\n",
       "Gender                         object\n",
       "City                           object\n",
       "Country                        object\n",
       "Category                       object\n",
       "Sub_Category                   object\n",
       "Items                          object\n",
       "Brand                          object\n",
       "Description                    object\n",
       "Price                         float64\n",
       "QTY                             int64\n",
       "DISC                          float64\n",
       "Amount                        float64\n",
       "Net Bill Amount               float64\n",
       "GST                           float64\n",
       "Gross Bill Amount             float64\n",
       "Payment Mode                   object\n",
       "Bank Name                      object\n",
       "% Profit Margin               float64\n",
       "% Operating Cost              float64\n",
       "% Product Cost                float64\n",
       "Profit Margin                 float64\n",
       "Operating Cost                float64\n",
       "Product Cost                  float64\n",
       "dtype: object"
      ]
     },
     "execution_count": 13,
     "metadata": {},
     "output_type": "execute_result"
    }
   ],
   "source": [
    "df.dtypes"
   ]
  },
  {
   "cell_type": "markdown",
   "id": "7b35a929",
   "metadata": {},
   "source": [
    "Бачимо, що типи даних певних колонок не відповідають контексту.Де це можливо - змінемо типи на ті, що більше підходять."
   ]
  },
  {
   "cell_type": "markdown",
   "id": "103db50f",
   "metadata": {},
   "source": [
    "* Тип даних Catergorical - колонки `Gender`, `Country`, `Payment Mode`"
   ]
  },
  {
   "cell_type": "code",
   "execution_count": 14,
   "id": "2dbf6fc3",
   "metadata": {
    "ExecuteTime": {
     "end_time": "2023-11-06T09:45:37.138917Z",
     "start_time": "2023-11-06T09:45:37.115403Z"
    }
   },
   "outputs": [],
   "source": [
    "columns = ['Gender', 'Country', 'Payment Mode']\n",
    "\n",
    "for col in columns:\n",
    "    df[col] = pd.Categorical(df[col])"
   ]
  },
  {
   "cell_type": "markdown",
   "id": "3f607232",
   "metadata": {},
   "source": [
    "* Тип даних str - колонка `Mobile Number`"
   ]
  },
  {
   "cell_type": "code",
   "execution_count": 15,
   "id": "1df57240",
   "metadata": {
    "ExecuteTime": {
     "end_time": "2023-11-06T09:45:37.157152Z",
     "start_time": "2023-11-06T09:45:37.140238Z"
    }
   },
   "outputs": [
    {
     "data": {
      "text/plain": [
       "0        9793548581\n",
       "1        9938441276\n",
       "2        9976742552\n",
       "3        9976742552\n",
       "4        9976742552\n",
       "            ...    \n",
       "50442    9893317658\n",
       "50443    9809301701\n",
       "50444    9840124138\n",
       "50445    9840124138\n",
       "50446    9840124138\n",
       "Name: Mobile Number, Length: 50447, dtype: object"
      ]
     },
     "execution_count": 15,
     "metadata": {},
     "output_type": "execute_result"
    }
   ],
   "source": [
    "df['Mobile Number'].astype('str')"
   ]
  },
  {
   "cell_type": "markdown",
   "id": "382d99f6",
   "metadata": {},
   "source": [
    "* Тип даних datetime64[ns] - колонка `Time`"
   ]
  },
  {
   "cell_type": "markdown",
   "id": "9c53c5e2",
   "metadata": {},
   "source": [
    "Тут буде не просте перетворення типу даних, а створення окремої колонки з повною інформацією про дату та час покупки. Це надасть більше гнучкості при подальшому аналізі особливостей, пов'язаних з time series."
   ]
  },
  {
   "cell_type": "code",
   "execution_count": 16,
   "id": "4f19e1f5",
   "metadata": {
    "ExecuteTime": {
     "end_time": "2023-11-06T09:45:37.231864Z",
     "start_time": "2023-11-06T09:45:37.158583Z"
    }
   },
   "outputs": [],
   "source": [
    "df['Recorded_time'] = df['Date'].astype(str) + ' ' + df['Time'].astype(str)\n",
    "df['Recorded_time'] = df['Recorded_time'].astype('datetime64[ns]')"
   ]
  },
  {
   "cell_type": "code",
   "execution_count": 17,
   "id": "4b15eb5b",
   "metadata": {
    "ExecuteTime": {
     "end_time": "2023-11-06T09:45:37.237113Z",
     "start_time": "2023-11-06T09:45:37.233223Z"
    },
    "scrolled": true
   },
   "outputs": [
    {
     "data": {
      "text/plain": [
       "0       2016-01-02 10:08:03.260\n",
       "1       2016-01-02 15:46:50.832\n",
       "2       2016-01-02 11:28:52.166\n",
       "3       2016-01-02 11:28:52.166\n",
       "4       2016-01-02 11:28:52.166\n",
       "                  ...          \n",
       "50442   2019-12-28 20:59:27.302\n",
       "50443   2019-12-29 13:14:45.030\n",
       "50444   2019-12-30 10:01:32.657\n",
       "50445   2019-12-30 10:01:32.657\n",
       "50446   2019-12-30 10:01:32.657\n",
       "Name: Recorded_time, Length: 50447, dtype: datetime64[ns]"
      ]
     },
     "execution_count": 17,
     "metadata": {},
     "output_type": "execute_result"
    }
   ],
   "source": [
    "df.Recorded_time"
   ]
  },
  {
   "cell_type": "markdown",
   "id": "ae566037",
   "metadata": {},
   "source": [
    "### Перевірка коректності наведених даних"
   ]
  },
  {
   "cell_type": "markdown",
   "id": "003feec7",
   "metadata": {},
   "source": [
    "При уважному погляді на дані можна відмітити, що `Net Bill Amount` та `Gross Bill Amount` розраховані не окремо для кожної позиції, а для всього рахунку одразу. Перевіремо коректність значень цих двох колонок на одному з рахунків, який містить декілька позицій."
   ]
  },
  {
   "cell_type": "markdown",
   "id": "4321ac84",
   "metadata": {},
   "source": [
    "* Фактичний розрахунок за сумою усіх позицій у рахунку."
   ]
  },
  {
   "cell_type": "code",
   "execution_count": 18,
   "id": "7a28bb5b",
   "metadata": {
    "ExecuteTime": {
     "end_time": "2023-11-06T09:45:37.248240Z",
     "start_time": "2023-11-06T09:45:37.238750Z"
    }
   },
   "outputs": [
    {
     "data": {
      "text/plain": [
       "30.769199999999998"
      ]
     },
     "execution_count": 18,
     "metadata": {},
     "output_type": "execute_result"
    }
   ],
   "source": [
    "df[df['Receipt Number'] == 'GIJ00003'].Amount.sum() "
   ]
  },
  {
   "cell_type": "markdown",
   "id": "ea424830",
   "metadata": {},
   "source": [
    "* Значення для рахунку з колонки `Net Bill Amount`."
   ]
  },
  {
   "cell_type": "code",
   "execution_count": 19,
   "id": "7e145dc0",
   "metadata": {
    "ExecuteTime": {
     "end_time": "2023-11-06T09:45:37.260925Z",
     "start_time": "2023-11-06T09:45:37.249262Z"
    }
   },
   "outputs": [
    {
     "data": {
      "text/plain": [
       "38.3526"
      ]
     },
     "execution_count": 19,
     "metadata": {},
     "output_type": "execute_result"
    }
   ],
   "source": [
    "df[df['Receipt Number'] == 'GIJ00003']['Net Bill Amount'].iloc[0]"
   ]
  },
  {
   "cell_type": "markdown",
   "id": "8062d672",
   "metadata": {},
   "source": [
    "Отже, бачимо, що значення не збігаються. Це вказує на те, що необхідно провести перерахунок у згаданих вище колонках. \n",
    "\n",
    "**Зауваження.** *Забігаючи наперед, зазначу, що у подальшому при аналізі будуть використовуватися перераховані колонки, у яких значення відповідають кожній окремій позиції, а не сумі за весь чек.*"
   ]
  },
  {
   "cell_type": "code",
   "execution_count": 20,
   "id": "59363903",
   "metadata": {
    "ExecuteTime": {
     "end_time": "2023-11-06T09:45:37.279833Z",
     "start_time": "2023-11-06T09:45:37.261925Z"
    }
   },
   "outputs": [],
   "source": [
    "df['Corrected Net Bill Amount'] = df.Price * df.QTY *(1-df.DISC)"
   ]
  },
  {
   "cell_type": "code",
   "execution_count": 21,
   "id": "70b866aa",
   "metadata": {
    "ExecuteTime": {
     "end_time": "2023-11-06T09:45:37.293539Z",
     "start_time": "2023-11-06T09:45:37.281431Z"
    }
   },
   "outputs": [],
   "source": [
    "df['Corrected Gross Bill Amount'] = df['Corrected Net Bill Amount'] * (1 + df.GST)"
   ]
  },
  {
   "cell_type": "markdown",
   "id": "839ae48f",
   "metadata": {},
   "source": [
    "Подивимось, чи збігаються тепер наша перерахована колонка та колонка `Amount`."
   ]
  },
  {
   "cell_type": "code",
   "execution_count": 22,
   "id": "696946ba",
   "metadata": {
    "ExecuteTime": {
     "end_time": "2023-11-06T09:45:37.311204Z",
     "start_time": "2023-11-06T09:45:37.294818Z"
    }
   },
   "outputs": [
    {
     "data": {
      "text/html": [
       "<div>\n",
       "<style scoped>\n",
       "    .dataframe tbody tr th:only-of-type {\n",
       "        vertical-align: middle;\n",
       "    }\n",
       "\n",
       "    .dataframe tbody tr th {\n",
       "        vertical-align: top;\n",
       "    }\n",
       "\n",
       "    .dataframe thead th {\n",
       "        text-align: right;\n",
       "    }\n",
       "</style>\n",
       "<table border=\"1\" class=\"dataframe\">\n",
       "  <thead>\n",
       "    <tr style=\"text-align: right;\">\n",
       "      <th></th>\n",
       "      <th>Amount</th>\n",
       "      <th>Corrected Net Bill Amount</th>\n",
       "    </tr>\n",
       "  </thead>\n",
       "  <tbody>\n",
       "    <tr>\n",
       "      <th>0</th>\n",
       "      <td>12.1128</td>\n",
       "      <td>12.1128</td>\n",
       "    </tr>\n",
       "    <tr>\n",
       "      <th>1</th>\n",
       "      <td>22.9680</td>\n",
       "      <td>22.9680</td>\n",
       "    </tr>\n",
       "    <tr>\n",
       "      <th>2</th>\n",
       "      <td>13.1769</td>\n",
       "      <td>13.1769</td>\n",
       "    </tr>\n",
       "    <tr>\n",
       "      <th>3</th>\n",
       "      <td>3.4848</td>\n",
       "      <td>3.4848</td>\n",
       "    </tr>\n",
       "    <tr>\n",
       "      <th>4</th>\n",
       "      <td>4.3659</td>\n",
       "      <td>4.3659</td>\n",
       "    </tr>\n",
       "  </tbody>\n",
       "</table>\n",
       "</div>"
      ],
      "text/plain": [
       "    Amount  Corrected Net Bill Amount\n",
       "0  12.1128                    12.1128\n",
       "1  22.9680                    22.9680\n",
       "2  13.1769                    13.1769\n",
       "3   3.4848                     3.4848\n",
       "4   4.3659                     4.3659"
      ]
     },
     "execution_count": 22,
     "metadata": {},
     "output_type": "execute_result"
    }
   ],
   "source": [
    "df[['Amount', 'Corrected Net Bill Amount']].head()"
   ]
  },
  {
   "cell_type": "markdown",
   "id": "7169d37c",
   "metadata": {},
   "source": [
    "Цікаво, що викликало помилку. Спробуємо розглянути кілька гіпотез."
   ]
  },
  {
   "cell_type": "markdown",
   "id": "a864d8bd",
   "metadata": {},
   "source": [
    "* Помилка у формулі."
   ]
  },
  {
   "cell_type": "code",
   "execution_count": 23,
   "id": "2e5a913b",
   "metadata": {
    "ExecuteTime": {
     "end_time": "2023-11-06T09:45:37.325763Z",
     "start_time": "2023-11-06T09:45:37.312531Z"
    }
   },
   "outputs": [],
   "source": [
    "price = df[df['Receipt Number'] == 'GIJ00003'].Price\n",
    "qty = df[df['Receipt Number'] == 'GIJ00003'].QTY\n",
    "disc = df[df['Receipt Number'] == 'GIJ00003'].DISC\n",
    "amount = price * qty * (1+disc) #у третьому множнику замінюємо '-' на '+' "
   ]
  },
  {
   "cell_type": "code",
   "execution_count": 24,
   "id": "1ba307cc",
   "metadata": {
    "ExecuteTime": {
     "end_time": "2023-11-06T09:45:37.338718Z",
     "start_time": "2023-11-06T09:45:37.327234Z"
    }
   },
   "outputs": [
    {
     "data": {
      "text/plain": [
       "31.390800000000002"
      ]
     },
     "execution_count": 24,
     "metadata": {},
     "output_type": "execute_result"
    }
   ],
   "source": [
    "amount.sum()"
   ]
  },
  {
   "cell_type": "markdown",
   "id": "715b33e6",
   "metadata": {},
   "source": [
    "Це значення не відповідає тому, що є для цього рахунку у колонці `Net Bill Amount`. Шукаємо помилку далі."
   ]
  },
  {
   "cell_type": "markdown",
   "id": "ce35dfa9",
   "metadata": {},
   "source": [
    "* Невірна агрегація."
   ]
  },
  {
   "cell_type": "markdown",
   "id": "3b904fb3",
   "metadata": {},
   "source": [
    "Малоімовірна помилка, але спробуємо перевірити."
   ]
  },
  {
   "cell_type": "code",
   "execution_count": 25,
   "id": "118fa777",
   "metadata": {
    "ExecuteTime": {
     "end_time": "2023-11-06T09:45:37.357314Z",
     "start_time": "2023-11-06T09:45:37.339723Z"
    }
   },
   "outputs": [],
   "source": [
    "price = df[df['Receipt Number'] == 'GIJ00003'].Price.sum()\n",
    "qty = df[df['Receipt Number'] == 'GIJ00003'].QTY.sum()\n",
    "disc = df[df['Receipt Number'] == 'GIJ00003'].DISC.sum()\n",
    "amount = price * qty * (1-disc)"
   ]
  },
  {
   "cell_type": "code",
   "execution_count": 26,
   "id": "382b0add",
   "metadata": {
    "ExecuteTime": {
     "end_time": "2023-11-06T09:45:37.368660Z",
     "start_time": "2023-11-06T09:45:37.360882Z"
    }
   },
   "outputs": [
    {
     "data": {
      "text/plain": [
       "175.2912"
      ]
     },
     "execution_count": 26,
     "metadata": {},
     "output_type": "execute_result"
    }
   ],
   "source": [
    "amount"
   ]
  },
  {
   "cell_type": "markdown",
   "id": "8c484b16",
   "metadata": {},
   "source": [
    "* Неврахування знижки."
   ]
  },
  {
   "cell_type": "code",
   "execution_count": 27,
   "id": "9d6a1039",
   "metadata": {
    "ExecuteTime": {
     "end_time": "2023-11-06T09:45:37.385398Z",
     "start_time": "2023-11-06T09:45:37.369883Z"
    }
   },
   "outputs": [],
   "source": [
    "price = df[df['Receipt Number'] == 'GIJ00003'].Price\n",
    "qty = df[df['Receipt Number'] == 'GIJ00003'].QTY\n",
    "amount = price * qty"
   ]
  },
  {
   "cell_type": "code",
   "execution_count": 28,
   "id": "2b68ab47",
   "metadata": {
    "ExecuteTime": {
     "end_time": "2023-11-06T09:45:37.397563Z",
     "start_time": "2023-11-06T09:45:37.386800Z"
    }
   },
   "outputs": [
    {
     "data": {
      "text/plain": [
       "31.080000000000002"
      ]
     },
     "execution_count": 28,
     "metadata": {},
     "output_type": "execute_result"
    }
   ],
   "source": [
    "amount.sum()"
   ]
  },
  {
   "cell_type": "markdown",
   "id": "553310ef",
   "metadata": {},
   "source": [
    "Жодна з запропонованих гіпотез не надала очікуваного результату. Вочевидь, помилку викликало дещо інше. В такому випадку, гарним кроком було б зв'язатися з особами, відповідальними за збір даних, щоб зібрати уточнюючу інформацію."
   ]
  },
  {
   "cell_type": "markdown",
   "id": "4e08638b",
   "metadata": {},
   "source": [
    "## Основна частина - аналіз даних на основі поставленних до них питань"
   ]
  },
  {
   "cell_type": "markdown",
   "id": "095aa4f3",
   "metadata": {},
   "source": [
    "### Поглянемо на зміни середнього чистої суми рахунку, що отримав клієнт, у залежності від віку клієнтів у різних країнах."
   ]
  },
  {
   "cell_type": "code",
   "execution_count": 29,
   "id": "53973de6",
   "metadata": {
    "ExecuteTime": {
     "end_time": "2023-11-06T09:45:37.434121Z",
     "start_time": "2023-11-06T09:45:37.398670Z"
    }
   },
   "outputs": [],
   "source": [
    "age_pivot = df.pivot_table(index='Age', columns='Country', values='Corrected Net Bill Amount')"
   ]
  },
  {
   "cell_type": "code",
   "execution_count": 30,
   "id": "6b2c3c26",
   "metadata": {
    "ExecuteTime": {
     "end_time": "2023-11-06T09:45:37.448912Z",
     "start_time": "2023-11-06T09:45:37.435241Z"
    },
    "scrolled": true
   },
   "outputs": [
    {
     "data": {
      "text/html": [
       "<div>\n",
       "<style scoped>\n",
       "    .dataframe tbody tr th:only-of-type {\n",
       "        vertical-align: middle;\n",
       "    }\n",
       "\n",
       "    .dataframe tbody tr th {\n",
       "        vertical-align: top;\n",
       "    }\n",
       "\n",
       "    .dataframe thead th {\n",
       "        text-align: right;\n",
       "    }\n",
       "</style>\n",
       "<table border=\"1\" class=\"dataframe\">\n",
       "  <thead>\n",
       "    <tr style=\"text-align: right;\">\n",
       "      <th>Country</th>\n",
       "      <th>Indonesia</th>\n",
       "      <th>Malaysia</th>\n",
       "      <th>Philippines</th>\n",
       "      <th>Singapore</th>\n",
       "    </tr>\n",
       "    <tr>\n",
       "      <th>Age</th>\n",
       "      <th></th>\n",
       "      <th></th>\n",
       "      <th></th>\n",
       "      <th></th>\n",
       "    </tr>\n",
       "  </thead>\n",
       "  <tbody>\n",
       "    <tr>\n",
       "      <th>15</th>\n",
       "      <td>10.786459</td>\n",
       "      <td>10.816283</td>\n",
       "      <td>11.473074</td>\n",
       "      <td>11.675638</td>\n",
       "    </tr>\n",
       "    <tr>\n",
       "      <th>16</th>\n",
       "      <td>9.335717</td>\n",
       "      <td>10.917567</td>\n",
       "      <td>10.543988</td>\n",
       "      <td>12.383020</td>\n",
       "    </tr>\n",
       "    <tr>\n",
       "      <th>17</th>\n",
       "      <td>12.047700</td>\n",
       "      <td>10.774646</td>\n",
       "      <td>10.120312</td>\n",
       "      <td>11.133565</td>\n",
       "    </tr>\n",
       "    <tr>\n",
       "      <th>18</th>\n",
       "      <td>11.732409</td>\n",
       "      <td>11.342231</td>\n",
       "      <td>11.374105</td>\n",
       "      <td>11.023192</td>\n",
       "    </tr>\n",
       "    <tr>\n",
       "      <th>19</th>\n",
       "      <td>11.642513</td>\n",
       "      <td>11.983177</td>\n",
       "      <td>11.409759</td>\n",
       "      <td>10.824732</td>\n",
       "    </tr>\n",
       "    <tr>\n",
       "      <th>20</th>\n",
       "      <td>10.630469</td>\n",
       "      <td>11.624563</td>\n",
       "      <td>11.813937</td>\n",
       "      <td>10.583368</td>\n",
       "    </tr>\n",
       "    <tr>\n",
       "      <th>21</th>\n",
       "      <td>11.538633</td>\n",
       "      <td>10.920315</td>\n",
       "      <td>10.153677</td>\n",
       "      <td>10.892022</td>\n",
       "    </tr>\n",
       "    <tr>\n",
       "      <th>22</th>\n",
       "      <td>11.426512</td>\n",
       "      <td>10.941061</td>\n",
       "      <td>10.294280</td>\n",
       "      <td>11.038389</td>\n",
       "    </tr>\n",
       "    <tr>\n",
       "      <th>23</th>\n",
       "      <td>10.364586</td>\n",
       "      <td>12.137778</td>\n",
       "      <td>9.949874</td>\n",
       "      <td>9.699329</td>\n",
       "    </tr>\n",
       "    <tr>\n",
       "      <th>24</th>\n",
       "      <td>11.050075</td>\n",
       "      <td>11.175412</td>\n",
       "      <td>10.698255</td>\n",
       "      <td>11.518528</td>\n",
       "    </tr>\n",
       "    <tr>\n",
       "      <th>25</th>\n",
       "      <td>10.900130</td>\n",
       "      <td>10.668215</td>\n",
       "      <td>11.063155</td>\n",
       "      <td>10.578276</td>\n",
       "    </tr>\n",
       "    <tr>\n",
       "      <th>26</th>\n",
       "      <td>11.481719</td>\n",
       "      <td>10.860265</td>\n",
       "      <td>11.259980</td>\n",
       "      <td>11.950510</td>\n",
       "    </tr>\n",
       "    <tr>\n",
       "      <th>27</th>\n",
       "      <td>12.214502</td>\n",
       "      <td>11.617885</td>\n",
       "      <td>11.452818</td>\n",
       "      <td>11.810616</td>\n",
       "    </tr>\n",
       "    <tr>\n",
       "      <th>28</th>\n",
       "      <td>11.905462</td>\n",
       "      <td>10.651535</td>\n",
       "      <td>10.985706</td>\n",
       "      <td>11.755253</td>\n",
       "    </tr>\n",
       "    <tr>\n",
       "      <th>29</th>\n",
       "      <td>11.603214</td>\n",
       "      <td>10.479977</td>\n",
       "      <td>11.518767</td>\n",
       "      <td>10.541996</td>\n",
       "    </tr>\n",
       "    <tr>\n",
       "      <th>30</th>\n",
       "      <td>14.557995</td>\n",
       "      <td>11.346296</td>\n",
       "      <td>11.439482</td>\n",
       "      <td>11.506436</td>\n",
       "    </tr>\n",
       "    <tr>\n",
       "      <th>31</th>\n",
       "      <td>12.331580</td>\n",
       "      <td>11.160510</td>\n",
       "      <td>10.484849</td>\n",
       "      <td>12.763866</td>\n",
       "    </tr>\n",
       "    <tr>\n",
       "      <th>32</th>\n",
       "      <td>11.974948</td>\n",
       "      <td>11.882207</td>\n",
       "      <td>11.562661</td>\n",
       "      <td>10.691478</td>\n",
       "    </tr>\n",
       "    <tr>\n",
       "      <th>33</th>\n",
       "      <td>10.558562</td>\n",
       "      <td>11.532419</td>\n",
       "      <td>11.223150</td>\n",
       "      <td>10.768369</td>\n",
       "    </tr>\n",
       "    <tr>\n",
       "      <th>34</th>\n",
       "      <td>11.144557</td>\n",
       "      <td>11.385817</td>\n",
       "      <td>10.895865</td>\n",
       "      <td>11.566500</td>\n",
       "    </tr>\n",
       "    <tr>\n",
       "      <th>35</th>\n",
       "      <td>11.808961</td>\n",
       "      <td>10.581097</td>\n",
       "      <td>8.220065</td>\n",
       "      <td>11.757395</td>\n",
       "    </tr>\n",
       "    <tr>\n",
       "      <th>36</th>\n",
       "      <td>13.654587</td>\n",
       "      <td>10.698470</td>\n",
       "      <td>11.568432</td>\n",
       "      <td>11.846814</td>\n",
       "    </tr>\n",
       "    <tr>\n",
       "      <th>37</th>\n",
       "      <td>9.978704</td>\n",
       "      <td>14.341935</td>\n",
       "      <td>10.407259</td>\n",
       "      <td>13.131353</td>\n",
       "    </tr>\n",
       "    <tr>\n",
       "      <th>38</th>\n",
       "      <td>10.559128</td>\n",
       "      <td>12.541192</td>\n",
       "      <td>10.142902</td>\n",
       "      <td>11.240075</td>\n",
       "    </tr>\n",
       "    <tr>\n",
       "      <th>39</th>\n",
       "      <td>11.562956</td>\n",
       "      <td>10.996885</td>\n",
       "      <td>10.674566</td>\n",
       "      <td>10.083782</td>\n",
       "    </tr>\n",
       "    <tr>\n",
       "      <th>40</th>\n",
       "      <td>11.353698</td>\n",
       "      <td>10.094490</td>\n",
       "      <td>12.515059</td>\n",
       "      <td>12.052398</td>\n",
       "    </tr>\n",
       "    <tr>\n",
       "      <th>41</th>\n",
       "      <td>11.989817</td>\n",
       "      <td>9.912529</td>\n",
       "      <td>9.114773</td>\n",
       "      <td>10.206392</td>\n",
       "    </tr>\n",
       "    <tr>\n",
       "      <th>42</th>\n",
       "      <td>12.338835</td>\n",
       "      <td>10.987820</td>\n",
       "      <td>12.026901</td>\n",
       "      <td>11.526793</td>\n",
       "    </tr>\n",
       "    <tr>\n",
       "      <th>43</th>\n",
       "      <td>11.769571</td>\n",
       "      <td>11.251185</td>\n",
       "      <td>10.004406</td>\n",
       "      <td>11.199020</td>\n",
       "    </tr>\n",
       "    <tr>\n",
       "      <th>44</th>\n",
       "      <td>10.123603</td>\n",
       "      <td>12.074632</td>\n",
       "      <td>11.033837</td>\n",
       "      <td>12.269244</td>\n",
       "    </tr>\n",
       "    <tr>\n",
       "      <th>45</th>\n",
       "      <td>10.635876</td>\n",
       "      <td>13.957395</td>\n",
       "      <td>10.388948</td>\n",
       "      <td>10.143624</td>\n",
       "    </tr>\n",
       "    <tr>\n",
       "      <th>46</th>\n",
       "      <td>9.453218</td>\n",
       "      <td>9.855727</td>\n",
       "      <td>10.304031</td>\n",
       "      <td>10.590269</td>\n",
       "    </tr>\n",
       "    <tr>\n",
       "      <th>47</th>\n",
       "      <td>11.167065</td>\n",
       "      <td>10.234125</td>\n",
       "      <td>10.339343</td>\n",
       "      <td>11.779482</td>\n",
       "    </tr>\n",
       "    <tr>\n",
       "      <th>48</th>\n",
       "      <td>10.657704</td>\n",
       "      <td>11.733692</td>\n",
       "      <td>11.816074</td>\n",
       "      <td>11.955879</td>\n",
       "    </tr>\n",
       "    <tr>\n",
       "      <th>49</th>\n",
       "      <td>10.649755</td>\n",
       "      <td>10.576595</td>\n",
       "      <td>10.739396</td>\n",
       "      <td>10.773861</td>\n",
       "    </tr>\n",
       "    <tr>\n",
       "      <th>50</th>\n",
       "      <td>11.518688</td>\n",
       "      <td>12.488642</td>\n",
       "      <td>10.914568</td>\n",
       "      <td>11.547046</td>\n",
       "    </tr>\n",
       "    <tr>\n",
       "      <th>51</th>\n",
       "      <td>11.041156</td>\n",
       "      <td>11.298321</td>\n",
       "      <td>10.638867</td>\n",
       "      <td>11.825868</td>\n",
       "    </tr>\n",
       "    <tr>\n",
       "      <th>52</th>\n",
       "      <td>10.782269</td>\n",
       "      <td>11.466810</td>\n",
       "      <td>10.397276</td>\n",
       "      <td>10.851218</td>\n",
       "    </tr>\n",
       "    <tr>\n",
       "      <th>53</th>\n",
       "      <td>11.892153</td>\n",
       "      <td>10.176238</td>\n",
       "      <td>10.895722</td>\n",
       "      <td>10.746360</td>\n",
       "    </tr>\n",
       "    <tr>\n",
       "      <th>54</th>\n",
       "      <td>11.570277</td>\n",
       "      <td>11.695625</td>\n",
       "      <td>10.380369</td>\n",
       "      <td>10.898730</td>\n",
       "    </tr>\n",
       "    <tr>\n",
       "      <th>55</th>\n",
       "      <td>11.473124</td>\n",
       "      <td>10.671108</td>\n",
       "      <td>11.229264</td>\n",
       "      <td>11.066055</td>\n",
       "    </tr>\n",
       "    <tr>\n",
       "      <th>56</th>\n",
       "      <td>10.465178</td>\n",
       "      <td>12.034531</td>\n",
       "      <td>NaN</td>\n",
       "      <td>14.579756</td>\n",
       "    </tr>\n",
       "    <tr>\n",
       "      <th>57</th>\n",
       "      <td>NaN</td>\n",
       "      <td>NaN</td>\n",
       "      <td>10.447515</td>\n",
       "      <td>9.129177</td>\n",
       "    </tr>\n",
       "    <tr>\n",
       "      <th>58</th>\n",
       "      <td>10.037112</td>\n",
       "      <td>10.893380</td>\n",
       "      <td>15.067960</td>\n",
       "      <td>14.176986</td>\n",
       "    </tr>\n",
       "    <tr>\n",
       "      <th>59</th>\n",
       "      <td>6.588805</td>\n",
       "      <td>19.323757</td>\n",
       "      <td>NaN</td>\n",
       "      <td>10.297830</td>\n",
       "    </tr>\n",
       "    <tr>\n",
       "      <th>60</th>\n",
       "      <td>10.367255</td>\n",
       "      <td>NaN</td>\n",
       "      <td>9.136000</td>\n",
       "      <td>10.802935</td>\n",
       "    </tr>\n",
       "    <tr>\n",
       "      <th>61</th>\n",
       "      <td>16.255590</td>\n",
       "      <td>13.358448</td>\n",
       "      <td>11.053884</td>\n",
       "      <td>9.220380</td>\n",
       "    </tr>\n",
       "    <tr>\n",
       "      <th>62</th>\n",
       "      <td>NaN</td>\n",
       "      <td>11.973537</td>\n",
       "      <td>7.672264</td>\n",
       "      <td>13.203480</td>\n",
       "    </tr>\n",
       "    <tr>\n",
       "      <th>63</th>\n",
       "      <td>9.784196</td>\n",
       "      <td>6.106560</td>\n",
       "      <td>10.589137</td>\n",
       "      <td>11.447008</td>\n",
       "    </tr>\n",
       "    <tr>\n",
       "      <th>64</th>\n",
       "      <td>NaN</td>\n",
       "      <td>NaN</td>\n",
       "      <td>10.152800</td>\n",
       "      <td>10.966229</td>\n",
       "    </tr>\n",
       "    <tr>\n",
       "      <th>65</th>\n",
       "      <td>NaN</td>\n",
       "      <td>NaN</td>\n",
       "      <td>NaN</td>\n",
       "      <td>15.492418</td>\n",
       "    </tr>\n",
       "    <tr>\n",
       "      <th>66</th>\n",
       "      <td>NaN</td>\n",
       "      <td>10.797750</td>\n",
       "      <td>9.143773</td>\n",
       "      <td>20.019660</td>\n",
       "    </tr>\n",
       "    <tr>\n",
       "      <th>67</th>\n",
       "      <td>16.834006</td>\n",
       "      <td>NaN</td>\n",
       "      <td>6.001067</td>\n",
       "      <td>10.798127</td>\n",
       "    </tr>\n",
       "    <tr>\n",
       "      <th>68</th>\n",
       "      <td>14.394165</td>\n",
       "      <td>NaN</td>\n",
       "      <td>10.443804</td>\n",
       "      <td>11.371579</td>\n",
       "    </tr>\n",
       "    <tr>\n",
       "      <th>69</th>\n",
       "      <td>9.485882</td>\n",
       "      <td>9.277425</td>\n",
       "      <td>13.009780</td>\n",
       "      <td>11.040879</td>\n",
       "    </tr>\n",
       "    <tr>\n",
       "      <th>70</th>\n",
       "      <td>9.860400</td>\n",
       "      <td>NaN</td>\n",
       "      <td>13.935240</td>\n",
       "      <td>9.307004</td>\n",
       "    </tr>\n",
       "    <tr>\n",
       "      <th>71</th>\n",
       "      <td>14.874011</td>\n",
       "      <td>11.329423</td>\n",
       "      <td>NaN</td>\n",
       "      <td>9.483552</td>\n",
       "    </tr>\n",
       "    <tr>\n",
       "      <th>72</th>\n",
       "      <td>11.132610</td>\n",
       "      <td>9.326045</td>\n",
       "      <td>NaN</td>\n",
       "      <td>10.591159</td>\n",
       "    </tr>\n",
       "    <tr>\n",
       "      <th>73</th>\n",
       "      <td>9.983395</td>\n",
       "      <td>14.270968</td>\n",
       "      <td>NaN</td>\n",
       "      <td>13.055724</td>\n",
       "    </tr>\n",
       "    <tr>\n",
       "      <th>74</th>\n",
       "      <td>10.442983</td>\n",
       "      <td>NaN</td>\n",
       "      <td>10.657403</td>\n",
       "      <td>10.436629</td>\n",
       "    </tr>\n",
       "    <tr>\n",
       "      <th>75</th>\n",
       "      <td>13.306847</td>\n",
       "      <td>7.527044</td>\n",
       "      <td>10.224691</td>\n",
       "      <td>10.418152</td>\n",
       "    </tr>\n",
       "  </tbody>\n",
       "</table>\n",
       "</div>"
      ],
      "text/plain": [
       "Country  Indonesia   Malaysia  Philippines  Singapore\n",
       "Age                                                  \n",
       "15       10.786459  10.816283    11.473074  11.675638\n",
       "16        9.335717  10.917567    10.543988  12.383020\n",
       "17       12.047700  10.774646    10.120312  11.133565\n",
       "18       11.732409  11.342231    11.374105  11.023192\n",
       "19       11.642513  11.983177    11.409759  10.824732\n",
       "20       10.630469  11.624563    11.813937  10.583368\n",
       "21       11.538633  10.920315    10.153677  10.892022\n",
       "22       11.426512  10.941061    10.294280  11.038389\n",
       "23       10.364586  12.137778     9.949874   9.699329\n",
       "24       11.050075  11.175412    10.698255  11.518528\n",
       "25       10.900130  10.668215    11.063155  10.578276\n",
       "26       11.481719  10.860265    11.259980  11.950510\n",
       "27       12.214502  11.617885    11.452818  11.810616\n",
       "28       11.905462  10.651535    10.985706  11.755253\n",
       "29       11.603214  10.479977    11.518767  10.541996\n",
       "30       14.557995  11.346296    11.439482  11.506436\n",
       "31       12.331580  11.160510    10.484849  12.763866\n",
       "32       11.974948  11.882207    11.562661  10.691478\n",
       "33       10.558562  11.532419    11.223150  10.768369\n",
       "34       11.144557  11.385817    10.895865  11.566500\n",
       "35       11.808961  10.581097     8.220065  11.757395\n",
       "36       13.654587  10.698470    11.568432  11.846814\n",
       "37        9.978704  14.341935    10.407259  13.131353\n",
       "38       10.559128  12.541192    10.142902  11.240075\n",
       "39       11.562956  10.996885    10.674566  10.083782\n",
       "40       11.353698  10.094490    12.515059  12.052398\n",
       "41       11.989817   9.912529     9.114773  10.206392\n",
       "42       12.338835  10.987820    12.026901  11.526793\n",
       "43       11.769571  11.251185    10.004406  11.199020\n",
       "44       10.123603  12.074632    11.033837  12.269244\n",
       "45       10.635876  13.957395    10.388948  10.143624\n",
       "46        9.453218   9.855727    10.304031  10.590269\n",
       "47       11.167065  10.234125    10.339343  11.779482\n",
       "48       10.657704  11.733692    11.816074  11.955879\n",
       "49       10.649755  10.576595    10.739396  10.773861\n",
       "50       11.518688  12.488642    10.914568  11.547046\n",
       "51       11.041156  11.298321    10.638867  11.825868\n",
       "52       10.782269  11.466810    10.397276  10.851218\n",
       "53       11.892153  10.176238    10.895722  10.746360\n",
       "54       11.570277  11.695625    10.380369  10.898730\n",
       "55       11.473124  10.671108    11.229264  11.066055\n",
       "56       10.465178  12.034531          NaN  14.579756\n",
       "57             NaN        NaN    10.447515   9.129177\n",
       "58       10.037112  10.893380    15.067960  14.176986\n",
       "59        6.588805  19.323757          NaN  10.297830\n",
       "60       10.367255        NaN     9.136000  10.802935\n",
       "61       16.255590  13.358448    11.053884   9.220380\n",
       "62             NaN  11.973537     7.672264  13.203480\n",
       "63        9.784196   6.106560    10.589137  11.447008\n",
       "64             NaN        NaN    10.152800  10.966229\n",
       "65             NaN        NaN          NaN  15.492418\n",
       "66             NaN  10.797750     9.143773  20.019660\n",
       "67       16.834006        NaN     6.001067  10.798127\n",
       "68       14.394165        NaN    10.443804  11.371579\n",
       "69        9.485882   9.277425    13.009780  11.040879\n",
       "70        9.860400        NaN    13.935240   9.307004\n",
       "71       14.874011  11.329423          NaN   9.483552\n",
       "72       11.132610   9.326045          NaN  10.591159\n",
       "73        9.983395  14.270968          NaN  13.055724\n",
       "74       10.442983        NaN    10.657403  10.436629\n",
       "75       13.306847   7.527044    10.224691  10.418152"
      ]
     },
     "execution_count": 30,
     "metadata": {},
     "output_type": "execute_result"
    }
   ],
   "source": [
    "age_pivot"
   ]
  },
  {
   "cell_type": "markdown",
   "id": "ae81b2d5",
   "metadata": {},
   "source": [
    "Отже, ми маємо чотири країни, де відбувалися замовлення та покупки, та клієнти віком від 15 до 75 років.\n",
    "Деякі елементи таблиці мають значення NaN. Подивимося, з чим це може бути пов'язано."
   ]
  },
  {
   "cell_type": "code",
   "execution_count": 31,
   "id": "53e85c6e",
   "metadata": {
    "ExecuteTime": {
     "end_time": "2023-11-06T09:45:37.461937Z",
     "start_time": "2023-11-06T09:45:37.449946Z"
    }
   },
   "outputs": [
    {
     "data": {
      "text/plain": [
       "Series([], Name: Corrected Net Bill Amount, dtype: float64)"
      ]
     },
     "execution_count": 31,
     "metadata": {},
     "output_type": "execute_result"
    }
   ],
   "source": [
    "df[df.Age == 74][df.Country == 'Malaysia']['Corrected Net Bill Amount']"
   ]
  },
  {
   "cell_type": "markdown",
   "id": "e765cb81",
   "metadata": {},
   "source": [
    "Для одного з записів у `age_pivot` відсутня інформація в оснвному наборі даних. Тобто пропущенні значення виникають через відсутність клієнтів зазначенного віку. Перевіримо, скільки ми маємо всього пропущенних значень у зведенній таблиці."
   ]
  },
  {
   "cell_type": "code",
   "execution_count": 32,
   "id": "52a569aa",
   "metadata": {
    "ExecuteTime": {
     "end_time": "2023-11-06T09:45:37.474521Z",
     "start_time": "2023-11-06T09:45:37.462983Z"
    }
   },
   "outputs": [
    {
     "data": {
      "text/plain": [
       "Country\n",
       "Indonesia      5\n",
       "Malaysia       8\n",
       "Philippines    6\n",
       "Singapore      0\n",
       "dtype: int64"
      ]
     },
     "execution_count": 32,
     "metadata": {},
     "output_type": "execute_result"
    }
   ],
   "source": [
    "age_pivot.isna().sum()"
   ]
  },
  {
   "cell_type": "markdown",
   "id": "47d6fc58",
   "metadata": {},
   "source": [
    "Записів відносно небагато, тому пропоную замінити їх середнім значенням по кожній відподній країні."
   ]
  },
  {
   "cell_type": "code",
   "execution_count": 33,
   "id": "80c2db37",
   "metadata": {
    "ExecuteTime": {
     "end_time": "2023-11-06T09:45:37.488025Z",
     "start_time": "2023-11-06T09:45:37.475551Z"
    }
   },
   "outputs": [],
   "source": [
    "country_list = age_pivot.columns.tolist()\n",
    "\n",
    "for country in country_list:\n",
    "    age_pivot[country].fillna(age_pivot[country].mean(), inplace=True)"
   ]
  },
  {
   "cell_type": "markdown",
   "id": "722f3780",
   "metadata": {},
   "source": [
    "Перевіримо наявність пропущенних даних ще раз, щоб запевнитись, що вони успішно замінені."
   ]
  },
  {
   "cell_type": "code",
   "execution_count": 34,
   "id": "e7f1b6a6",
   "metadata": {
    "ExecuteTime": {
     "end_time": "2023-11-06T09:45:37.501989Z",
     "start_time": "2023-11-06T09:45:37.489126Z"
    },
    "scrolled": false
   },
   "outputs": [
    {
     "data": {
      "text/plain": [
       "Country\n",
       "Indonesia      0\n",
       "Malaysia       0\n",
       "Philippines    0\n",
       "Singapore      0\n",
       "dtype: int64"
      ]
     },
     "execution_count": 34,
     "metadata": {},
     "output_type": "execute_result"
    }
   ],
   "source": [
    "age_pivot.isna().sum()"
   ]
  },
  {
   "cell_type": "markdown",
   "id": "3050bf6d",
   "metadata": {},
   "source": [
    "А тепер цікаво подивитись, яким є розподіл Net Bill Amount для кожної країни у залежності від віку."
   ]
  },
  {
   "cell_type": "code",
   "execution_count": 154,
   "id": "4b0eb5f6",
   "metadata": {
    "ExecuteTime": {
     "end_time": "2023-11-06T10:39:22.138715Z",
     "start_time": "2023-11-06T10:39:21.965381Z"
    }
   },
   "outputs": [
    {
     "data": {
      "image/png": "[encoded data removed]",
      "text/plain": [
       "<Figure size 640x480 with 1 Axes>"
      ]
     },
     "metadata": {},
     "output_type": "display_data"
    }
   ],
   "source": [
    "sns.set(style='darkgrid')\n",
    "sns.boxplot(data=age_pivot, palette='coolwarm')\n",
    "\n",
    "plt.ylabel('Mean Net Bill Amount')\n",
    "plt.title('Mean NBA in different countries according to age');"
   ]
  },
  {
   "cell_type": "markdown",
   "id": "5147a586",
   "metadata": {},
   "source": [
    "Бачимо, що у всіх випадках ми маємо виброси у даних. Всі графіки значною мірою перетинаються та мають схоже значення медіани (близько 11). Це означає, що для всіх країн та обранного вікового діапазону (15-75 років) найбільш популярне середнє значення чистої суми рахунку було приблизно однаковим. Найбільший розкид даних демонструють Індонезія та Сінгапур (щільність групування даних менше, ніж у двох інших країн), окрім того боксплот для Індонезії є значно скошеним праворуч. Розкид може вказувати на те, що різні вікові категорії мали несхожі середні Net Bill Amount, тобто не мало місця скупчення даних коло одного значення (наприклад, медіани). Скошення вказує на те, що в Індозеї є тенденція до більших середніх чеків, в той час як у Малазії - навпаки (з огляду на нижнє та верхнє екстремальні значення).\n",
    "Інші графіки також демонструють скошення, але меншою мірою. "
   ]
  },
  {
   "cell_type": "markdown",
   "id": "d0f534fc",
   "metadata": {},
   "source": [
    "Тепер подивимося для різних країн середній профіт у залежності від категорії продукту. З наступної зведенної таблиці ми можемо побачити, у яких країних певна категорія має найвищий середній профіт, а у яких - найнижчій. Якщо припустити, що середній профіт за категорією може відображати попит на товари категорії (наприклад, якщо на товари цієї категорії у певних країнах/районах ажіотаж, то це теоретично може призвести до підвищення ціни - люди будуть купляти, не дивлячись на підняття ціни), то можна робити припущення про роботу з цільовою аудиторію або про ефективність рекламних кампаній, цінової політики, тощо. Цю таблицю цікаво аналізувати у поєднанні з іншими графіками, як наприклад з завдання 3.3."
   ]
  },
  {
   "cell_type": "code",
   "execution_count": 36,
   "id": "f87a21ad",
   "metadata": {
    "ExecuteTime": {
     "end_time": "2023-11-06T09:45:37.787700Z",
     "start_time": "2023-11-06T09:45:37.776255Z"
    }
   },
   "outputs": [],
   "source": [
    "categ_pivot = df.pivot_table(index='Country', columns='Category', values='Profit Margin', aggfunc='mean')"
   ]
  },
  {
   "cell_type": "code",
   "execution_count": 37,
   "id": "bf44308b",
   "metadata": {
    "ExecuteTime": {
     "end_time": "2023-11-06T09:45:37.837882Z",
     "start_time": "2023-11-06T09:45:37.789493Z"
    },
    "scrolled": true
   },
   "outputs": [
    {
     "data": {
      "text/html": [
       "<style type=\"text/css\">\n",
       "#T_678c5_row0_col0 {\n",
       "  background-color: #71a8ce;\n",
       "  color: #f1f1f1;\n",
       "}\n",
       "#T_678c5_row0_col1 {\n",
       "  background-color: #ced0e6;\n",
       "  color: #000000;\n",
       "}\n",
       "#T_678c5_row0_col2, #T_678c5_row0_col4, #T_678c5_row0_col6, #T_678c5_row0_col8, #T_678c5_row0_col9, #T_678c5_row0_col11, #T_678c5_row0_col12, #T_678c5_row0_col13, #T_678c5_row1_col5, #T_678c5_row1_col14, #T_678c5_row1_col15, #T_678c5_row3_col0, #T_678c5_row3_col1, #T_678c5_row3_col3, #T_678c5_row3_col7, #T_678c5_row3_col10 {\n",
       "  background-color: #023858;\n",
       "  color: #f1f1f1;\n",
       "}\n",
       "#T_678c5_row0_col3, #T_678c5_row0_col7, #T_678c5_row0_col15, #T_678c5_row1_col6, #T_678c5_row1_col9, #T_678c5_row1_col10, #T_678c5_row1_col11, #T_678c5_row1_col12, #T_678c5_row2_col0, #T_678c5_row2_col1, #T_678c5_row2_col2, #T_678c5_row2_col4, #T_678c5_row2_col5, #T_678c5_row2_col8, #T_678c5_row2_col13, #T_678c5_row2_col14 {\n",
       "  background-color: #fff7fb;\n",
       "  color: #000000;\n",
       "}\n",
       "#T_678c5_row0_col5 {\n",
       "  background-color: #2685bb;\n",
       "  color: #f1f1f1;\n",
       "}\n",
       "#T_678c5_row0_col10 {\n",
       "  background-color: #167bb6;\n",
       "  color: #f1f1f1;\n",
       "}\n",
       "#T_678c5_row0_col14 {\n",
       "  background-color: #ede7f2;\n",
       "  color: #000000;\n",
       "}\n",
       "#T_678c5_row1_col0 {\n",
       "  background-color: #e0dded;\n",
       "  color: #000000;\n",
       "}\n",
       "#T_678c5_row1_col1 {\n",
       "  background-color: #65a3cb;\n",
       "  color: #f1f1f1;\n",
       "}\n",
       "#T_678c5_row1_col2 {\n",
       "  background-color: #1e80b8;\n",
       "  color: #f1f1f1;\n",
       "}\n",
       "#T_678c5_row1_col3 {\n",
       "  background-color: #f2ecf5;\n",
       "  color: #000000;\n",
       "}\n",
       "#T_678c5_row1_col4 {\n",
       "  background-color: #328dbf;\n",
       "  color: #f1f1f1;\n",
       "}\n",
       "#T_678c5_row1_col7 {\n",
       "  background-color: #348ebf;\n",
       "  color: #f1f1f1;\n",
       "}\n",
       "#T_678c5_row1_col8 {\n",
       "  background-color: #045c90;\n",
       "  color: #f1f1f1;\n",
       "}\n",
       "#T_678c5_row1_col13 {\n",
       "  background-color: #cdd0e5;\n",
       "  color: #000000;\n",
       "}\n",
       "#T_678c5_row2_col3 {\n",
       "  background-color: #4a98c5;\n",
       "  color: #f1f1f1;\n",
       "}\n",
       "#T_678c5_row2_col6 {\n",
       "  background-color: #fbf4f9;\n",
       "  color: #000000;\n",
       "}\n",
       "#T_678c5_row2_col7 {\n",
       "  background-color: #efe9f3;\n",
       "  color: #000000;\n",
       "}\n",
       "#T_678c5_row2_col9 {\n",
       "  background-color: #fef6fb;\n",
       "  color: #000000;\n",
       "}\n",
       "#T_678c5_row2_col10 {\n",
       "  background-color: #75a9cf;\n",
       "  color: #f1f1f1;\n",
       "}\n",
       "#T_678c5_row2_col11 {\n",
       "  background-color: #d2d3e7;\n",
       "  color: #000000;\n",
       "}\n",
       "#T_678c5_row2_col12 {\n",
       "  background-color: #e9e5f1;\n",
       "  color: #000000;\n",
       "}\n",
       "#T_678c5_row2_col15 {\n",
       "  background-color: #b0c2de;\n",
       "  color: #000000;\n",
       "}\n",
       "#T_678c5_row3_col2 {\n",
       "  background-color: #04649e;\n",
       "  color: #f1f1f1;\n",
       "}\n",
       "#T_678c5_row3_col4 {\n",
       "  background-color: #3d93c2;\n",
       "  color: #f1f1f1;\n",
       "}\n",
       "#T_678c5_row3_col5 {\n",
       "  background-color: #034f7d;\n",
       "  color: #f1f1f1;\n",
       "}\n",
       "#T_678c5_row3_col6 {\n",
       "  background-color: #94b6d7;\n",
       "  color: #000000;\n",
       "}\n",
       "#T_678c5_row3_col8 {\n",
       "  background-color: #03446a;\n",
       "  color: #f1f1f1;\n",
       "}\n",
       "#T_678c5_row3_col9 {\n",
       "  background-color: #69a5cc;\n",
       "  color: #f1f1f1;\n",
       "}\n",
       "#T_678c5_row3_col11 {\n",
       "  background-color: #04588a;\n",
       "  color: #f1f1f1;\n",
       "}\n",
       "#T_678c5_row3_col12 {\n",
       "  background-color: #1b7eb7;\n",
       "  color: #f1f1f1;\n",
       "}\n",
       "#T_678c5_row3_col13 {\n",
       "  background-color: #c1cae2;\n",
       "  color: #000000;\n",
       "}\n",
       "#T_678c5_row3_col14 {\n",
       "  background-color: #f1ebf4;\n",
       "  color: #000000;\n",
       "}\n",
       "#T_678c5_row3_col15 {\n",
       "  background-color: #cccfe5;\n",
       "  color: #000000;\n",
       "}\n",
       "</style>\n",
       "<table id=\"T_678c5\">\n",
       "  <thead>\n",
       "    <tr>\n",
       "      <th class=\"index_name level0\" >Category</th>\n",
       "      <th id=\"T_678c5_level0_col0\" class=\"col_heading level0 col0\" >Bakery & Breakfast</th>\n",
       "      <th id=\"T_678c5_level0_col1\" class=\"col_heading level0 col1\" >Beauty</th>\n",
       "      <th id=\"T_678c5_level0_col2\" class=\"col_heading level0 col2\" >Beverages</th>\n",
       "      <th id=\"T_678c5_level0_col3\" class=\"col_heading level0 col3\" >Choco, Snacks, Sweets</th>\n",
       "      <th id=\"T_678c5_level0_col4\" class=\"col_heading level0 col4\" >Dairy, Chilled & Eggs</th>\n",
       "      <th id=\"T_678c5_level0_col5\" class=\"col_heading level0 col5\" >Frozen</th>\n",
       "      <th id=\"T_678c5_level0_col6\" class=\"col_heading level0 col6\" >Fruit & Vegetable</th>\n",
       "      <th id=\"T_678c5_level0_col7\" class=\"col_heading level0 col7\" >Health</th>\n",
       "      <th id=\"T_678c5_level0_col8\" class=\"col_heading level0 col8\" >Household</th>\n",
       "      <th id=\"T_678c5_level0_col9\" class=\"col_heading level0 col9\" >Kitchen & Dining</th>\n",
       "      <th id=\"T_678c5_level0_col10\" class=\"col_heading level0 col10\" >Meat & Seafood</th>\n",
       "      <th id=\"T_678c5_level0_col11\" class=\"col_heading level0 col11\" >Mother & Baby</th>\n",
       "      <th id=\"T_678c5_level0_col12\" class=\"col_heading level0 col12\" >Party Supplies</th>\n",
       "      <th id=\"T_678c5_level0_col13\" class=\"col_heading level0 col13\" >Pet Care</th>\n",
       "      <th id=\"T_678c5_level0_col14\" class=\"col_heading level0 col14\" >Rice & Cooking Essentials</th>\n",
       "      <th id=\"T_678c5_level0_col15\" class=\"col_heading level0 col15\" >Wines, Beers & Spirits</th>\n",
       "    </tr>\n",
       "    <tr>\n",
       "      <th class=\"index_name level0\" >Country</th>\n",
       "      <th class=\"blank col0\" >&nbsp;</th>\n",
       "      <th class=\"blank col1\" >&nbsp;</th>\n",
       "      <th class=\"blank col2\" >&nbsp;</th>\n",
       "      <th class=\"blank col3\" >&nbsp;</th>\n",
       "      <th class=\"blank col4\" >&nbsp;</th>\n",
       "      <th class=\"blank col5\" >&nbsp;</th>\n",
       "      <th class=\"blank col6\" >&nbsp;</th>\n",
       "      <th class=\"blank col7\" >&nbsp;</th>\n",
       "      <th class=\"blank col8\" >&nbsp;</th>\n",
       "      <th class=\"blank col9\" >&nbsp;</th>\n",
       "      <th class=\"blank col10\" >&nbsp;</th>\n",
       "      <th class=\"blank col11\" >&nbsp;</th>\n",
       "      <th class=\"blank col12\" >&nbsp;</th>\n",
       "      <th class=\"blank col13\" >&nbsp;</th>\n",
       "      <th class=\"blank col14\" >&nbsp;</th>\n",
       "      <th class=\"blank col15\" >&nbsp;</th>\n",
       "    </tr>\n",
       "  </thead>\n",
       "  <tbody>\n",
       "    <tr>\n",
       "      <th id=\"T_678c5_level0_row0\" class=\"row_heading level0 row0\" >Indonesia</th>\n",
       "      <td id=\"T_678c5_row0_col0\" class=\"data row0 col0\" >0.919685</td>\n",
       "      <td id=\"T_678c5_row0_col1\" class=\"data row0 col1\" >1.512095</td>\n",
       "      <td id=\"T_678c5_row0_col2\" class=\"data row0 col2\" >1.104250</td>\n",
       "      <td id=\"T_678c5_row0_col3\" class=\"data row0 col3\" >0.945652</td>\n",
       "      <td id=\"T_678c5_row0_col4\" class=\"data row0 col4\" >0.811724</td>\n",
       "      <td id=\"T_678c5_row0_col5\" class=\"data row0 col5\" >1.449241</td>\n",
       "      <td id=\"T_678c5_row0_col6\" class=\"data row0 col6\" >1.066450</td>\n",
       "      <td id=\"T_678c5_row0_col7\" class=\"data row0 col7\" >1.629224</td>\n",
       "      <td id=\"T_678c5_row0_col8\" class=\"data row0 col8\" >1.032993</td>\n",
       "      <td id=\"T_678c5_row0_col9\" class=\"data row0 col9\" >0.649662</td>\n",
       "      <td id=\"T_678c5_row0_col10\" class=\"data row0 col10\" >1.947370</td>\n",
       "      <td id=\"T_678c5_row0_col11\" class=\"data row0 col11\" >2.108515</td>\n",
       "      <td id=\"T_678c5_row0_col12\" class=\"data row0 col12\" >0.957872</td>\n",
       "      <td id=\"T_678c5_row0_col13\" class=\"data row0 col13\" >1.325367</td>\n",
       "      <td id=\"T_678c5_row0_col14\" class=\"data row0 col14\" >0.516283</td>\n",
       "      <td id=\"T_678c5_row0_col15\" class=\"data row0 col15\" >2.074635</td>\n",
       "    </tr>\n",
       "    <tr>\n",
       "      <th id=\"T_678c5_level0_row1\" class=\"row_heading level0 row1\" >Malaysia</th>\n",
       "      <td id=\"T_678c5_row1_col0\" class=\"data row1 col0\" >0.914548</td>\n",
       "      <td id=\"T_678c5_row1_col1\" class=\"data row1 col1\" >1.536384</td>\n",
       "      <td id=\"T_678c5_row1_col2\" class=\"data row1 col2\" >1.093283</td>\n",
       "      <td id=\"T_678c5_row1_col3\" class=\"data row1 col3\" >0.951400</td>\n",
       "      <td id=\"T_678c5_row1_col4\" class=\"data row1 col4\" >0.793948</td>\n",
       "      <td id=\"T_678c5_row1_col5\" class=\"data row1 col5\" >1.488474</td>\n",
       "      <td id=\"T_678c5_row1_col6\" class=\"data row1 col6\" >0.971446</td>\n",
       "      <td id=\"T_678c5_row1_col7\" class=\"data row1 col7\" >1.787664</td>\n",
       "      <td id=\"T_678c5_row1_col8\" class=\"data row1 col8\" >1.014506</td>\n",
       "      <td id=\"T_678c5_row1_col9\" class=\"data row1 col9\" >0.621035</td>\n",
       "      <td id=\"T_678c5_row1_col10\" class=\"data row1 col10\" >1.892377</td>\n",
       "      <td id=\"T_678c5_row1_col11\" class=\"data row1 col11\" >2.009482</td>\n",
       "      <td id=\"T_678c5_row1_col12\" class=\"data row1 col12\" >0.851430</td>\n",
       "      <td id=\"T_678c5_row1_col13\" class=\"data row1 col13\" >1.283920</td>\n",
       "      <td id=\"T_678c5_row1_col14\" class=\"data row1 col14\" >0.542632</td>\n",
       "      <td id=\"T_678c5_row1_col15\" class=\"data row1 col15\" >2.219560</td>\n",
       "    </tr>\n",
       "    <tr>\n",
       "      <th id=\"T_678c5_level0_row2\" class=\"row_heading level0 row2\" >Philippines</th>\n",
       "      <td id=\"T_678c5_row2_col0\" class=\"data row2 col0\" >0.911668</td>\n",
       "      <td id=\"T_678c5_row2_col1\" class=\"data row2 col1\" >1.489601</td>\n",
       "      <td id=\"T_678c5_row2_col2\" class=\"data row2 col2\" >1.069546</td>\n",
       "      <td id=\"T_678c5_row2_col3\" class=\"data row2 col3\" >0.983540</td>\n",
       "      <td id=\"T_678c5_row2_col4\" class=\"data row2 col4\" >0.762968</td>\n",
       "      <td id=\"T_678c5_row2_col5\" class=\"data row2 col5\" >1.370833</td>\n",
       "      <td id=\"T_678c5_row2_col6\" class=\"data row2 col6\" >0.974026</td>\n",
       "      <td id=\"T_678c5_row2_col7\" class=\"data row2 col7\" >1.656379</td>\n",
       "      <td id=\"T_678c5_row2_col8\" class=\"data row2 col8\" >0.898387</td>\n",
       "      <td id=\"T_678c5_row2_col9\" class=\"data row2 col9\" >0.621176</td>\n",
       "      <td id=\"T_678c5_row2_col10\" class=\"data row2 col10\" >1.931221</td>\n",
       "      <td id=\"T_678c5_row2_col11\" class=\"data row2 col11\" >2.033098</td>\n",
       "      <td id=\"T_678c5_row2_col12\" class=\"data row2 col12\" >0.866176</td>\n",
       "      <td id=\"T_678c5_row2_col13\" class=\"data row2 col13\" >1.269399</td>\n",
       "      <td id=\"T_678c5_row2_col14\" class=\"data row2 col14\" >0.512535</td>\n",
       "      <td id=\"T_678c5_row2_col15\" class=\"data row2 col15\" >2.124855</td>\n",
       "    </tr>\n",
       "    <tr>\n",
       "      <th id=\"T_678c5_level0_row3\" class=\"row_heading level0 row3\" >Singapore</th>\n",
       "      <td id=\"T_678c5_row3_col0\" class=\"data row3 col0\" >0.927536</td>\n",
       "      <td id=\"T_678c5_row3_col1\" class=\"data row3 col1\" >1.577811</td>\n",
       "      <td id=\"T_678c5_row3_col2\" class=\"data row3 col2\" >1.097755</td>\n",
       "      <td id=\"T_678c5_row3_col3\" class=\"data row3 col3\" >1.010687</td>\n",
       "      <td id=\"T_678c5_row3_col4\" class=\"data row3 col4\" >0.792684</td>\n",
       "      <td id=\"T_678c5_row3_col5\" class=\"data row3 col5\" >1.477921</td>\n",
       "      <td id=\"T_678c5_row3_col6\" class=\"data row3 col6\" >1.011448</td>\n",
       "      <td id=\"T_678c5_row3_col7\" class=\"data row3 col7\" >1.880741</td>\n",
       "      <td id=\"T_678c5_row3_col8\" class=\"data row3 col8\" >1.026962</td>\n",
       "      <td id=\"T_678c5_row3_col9\" class=\"data row3 col9\" >0.635929</td>\n",
       "      <td id=\"T_678c5_row3_col10\" class=\"data row3 col10\" >1.970494</td>\n",
       "      <td id=\"T_678c5_row3_col11\" class=\"data row3 col11\" >2.096545</td>\n",
       "      <td id=\"T_678c5_row3_col12\" class=\"data row3 col12\" >0.925132</td>\n",
       "      <td id=\"T_678c5_row3_col13\" class=\"data row3 col13\" >1.286005</td>\n",
       "      <td id=\"T_678c5_row3_col14\" class=\"data row3 col14\" >0.515416</td>\n",
       "      <td id=\"T_678c5_row3_col15\" class=\"data row3 col15\" >2.112585</td>\n",
       "    </tr>\n",
       "  </tbody>\n",
       "</table>\n"
      ],
      "text/plain": [
       "<pandas.io.formats.style.Styler at 0x7f2c0b102670>"
      ]
     },
     "execution_count": 37,
     "metadata": {},
     "output_type": "execute_result"
    }
   ],
   "source": [
    "categ_pivot.style.background_gradient(axis=0)"
   ]
  },
  {
   "cell_type": "markdown",
   "id": "827b1ed9",
   "metadata": {},
   "source": [
    "### Тепер подвимося на значення середнього Net Bill Amount у залежності від статті. Перше, що зробимо - поглянемо на розподіл жінок та чоловіків у всьому наборі даних."
   ]
  },
  {
   "cell_type": "code",
   "execution_count": 38,
   "id": "90035728",
   "metadata": {
    "ExecuteTime": {
     "end_time": "2023-11-06T09:45:37.843005Z",
     "start_time": "2023-11-06T09:45:37.839025Z"
    }
   },
   "outputs": [
    {
     "data": {
      "text/plain": [
       "Female    0.829028\n",
       "Male      0.170972\n",
       "Name: Gender, dtype: float64"
      ]
     },
     "execution_count": 38,
     "metadata": {},
     "output_type": "execute_result"
    }
   ],
   "source": [
    "df.Gender.value_counts(normalize=True)"
   ]
  },
  {
   "cell_type": "code",
   "execution_count": 39,
   "id": "e1b4d97b",
   "metadata": {
    "ExecuteTime": {
     "end_time": "2023-11-06T09:45:37.859362Z",
     "start_time": "2023-11-06T09:45:37.844164Z"
    }
   },
   "outputs": [
    {
     "data": {
      "text/html": [
       "<div>\n",
       "<style scoped>\n",
       "    .dataframe tbody tr th:only-of-type {\n",
       "        vertical-align: middle;\n",
       "    }\n",
       "\n",
       "    .dataframe tbody tr th {\n",
       "        vertical-align: top;\n",
       "    }\n",
       "\n",
       "    .dataframe thead th {\n",
       "        text-align: right;\n",
       "    }\n",
       "</style>\n",
       "<table border=\"1\" class=\"dataframe\">\n",
       "  <thead>\n",
       "    <tr style=\"text-align: right;\">\n",
       "      <th></th>\n",
       "      <th>count</th>\n",
       "      <th>mean</th>\n",
       "      <th>std</th>\n",
       "      <th>min</th>\n",
       "      <th>25%</th>\n",
       "      <th>50%</th>\n",
       "      <th>75%</th>\n",
       "      <th>max</th>\n",
       "    </tr>\n",
       "    <tr>\n",
       "      <th>Gender</th>\n",
       "      <th></th>\n",
       "      <th></th>\n",
       "      <th></th>\n",
       "      <th></th>\n",
       "      <th></th>\n",
       "      <th></th>\n",
       "      <th></th>\n",
       "      <th></th>\n",
       "    </tr>\n",
       "  </thead>\n",
       "  <tbody>\n",
       "    <tr>\n",
       "      <th>Female</th>\n",
       "      <td>41822.0</td>\n",
       "      <td>11.219064</td>\n",
       "      <td>9.336172</td>\n",
       "      <td>0.798</td>\n",
       "      <td>5.2470</td>\n",
       "      <td>8.6400</td>\n",
       "      <td>14.0410</td>\n",
       "      <td>299.8272</td>\n",
       "    </tr>\n",
       "    <tr>\n",
       "      <th>Male</th>\n",
       "      <td>8625.0</td>\n",
       "      <td>10.920170</td>\n",
       "      <td>8.675438</td>\n",
       "      <td>0.988</td>\n",
       "      <td>5.0731</td>\n",
       "      <td>8.5456</td>\n",
       "      <td>13.8516</td>\n",
       "      <td>124.6590</td>\n",
       "    </tr>\n",
       "  </tbody>\n",
       "</table>\n",
       "</div>"
      ],
      "text/plain": [
       "          count       mean       std    min     25%     50%      75%       max\n",
       "Gender                                                                        \n",
       "Female  41822.0  11.219064  9.336172  0.798  5.2470  8.6400  14.0410  299.8272\n",
       "Male     8625.0  10.920170  8.675438  0.988  5.0731  8.5456  13.8516  124.6590"
      ]
     },
     "execution_count": 39,
     "metadata": {},
     "output_type": "execute_result"
    }
   ],
   "source": [
    "df.groupby('Gender')['Corrected Net Bill Amount'].describe()"
   ]
  },
  {
   "cell_type": "markdown",
   "id": "bf4606d1",
   "metadata": {},
   "source": [
    "Жінок у датафреймі значно більше, ніж чоловіків, але середні показники та стандартні відхилення Net Bill Amount у залежності від статті (як і значення персентилей) відмінні лише трохи. Лише максимальне значення відрізняється помітно.\n",
    "\n",
    "Тепер звернемо увагу, чи зберігається тенеденція переваги жінок над чоловіками, якщо подивитися на окремі країни з нашого набору даних."
   ]
  },
  {
   "cell_type": "code",
   "execution_count": 40,
   "id": "1e50a838",
   "metadata": {
    "ExecuteTime": {
     "end_time": "2023-11-06T09:45:37.866337Z",
     "start_time": "2023-11-06T09:45:37.860565Z"
    }
   },
   "outputs": [
    {
     "data": {
      "text/plain": [
       "Country      Gender\n",
       "Indonesia    Female     7378\n",
       "             Male       1730\n",
       "Malaysia     Female     8176\n",
       "             Male       2587\n",
       "Philippines  Female     9537\n",
       "             Male       2843\n",
       "Singapore    Female    16731\n",
       "             Male       1465\n",
       "Name: Gender, dtype: int64"
      ]
     },
     "execution_count": 40,
     "metadata": {},
     "output_type": "execute_result"
    }
   ],
   "source": [
    "df.groupby(['Country', 'Gender']).Gender.count()"
   ]
  },
  {
   "cell_type": "markdown",
   "id": "d92fd6a9",
   "metadata": {},
   "source": [
    "Співвідношення приблизно однакове для перших трьох країн, а от у Сінгапурі кількість жінок - найбільша."
   ]
  },
  {
   "cell_type": "code",
   "execution_count": 41,
   "id": "41a3fffe",
   "metadata": {
    "ExecuteTime": {
     "end_time": "2023-11-06T09:45:37.876149Z",
     "start_time": "2023-11-06T09:45:37.867558Z"
    }
   },
   "outputs": [],
   "source": [
    "profit_country_gender = df.pivot_table(index='Gender', \n",
    "                                       columns='Country', \n",
    "                                       values='Corrected Net Bill Amount', \n",
    "                                       aggfunc='mean')"
   ]
  },
  {
   "cell_type": "code",
   "execution_count": 42,
   "id": "563af6dd",
   "metadata": {
    "ExecuteTime": {
     "end_time": "2023-11-06T09:45:37.886718Z",
     "start_time": "2023-11-06T09:45:37.877419Z"
    },
    "scrolled": false
   },
   "outputs": [
    {
     "data": {
      "text/html": [
       "<style type=\"text/css\">\n",
       "#T_eff35_row0_col0, #T_eff35_row1_col1, #T_eff35_row1_col2, #T_eff35_row1_col3 {\n",
       "  background-color: #fff7fb;\n",
       "  color: #000000;\n",
       "}\n",
       "#T_eff35_row0_col1, #T_eff35_row0_col2, #T_eff35_row0_col3, #T_eff35_row1_col0 {\n",
       "  background-color: #023858;\n",
       "  color: #f1f1f1;\n",
       "}\n",
       "</style>\n",
       "<table id=\"T_eff35\">\n",
       "  <thead>\n",
       "    <tr>\n",
       "      <th class=\"index_name level0\" >Country</th>\n",
       "      <th id=\"T_eff35_level0_col0\" class=\"col_heading level0 col0\" >Indonesia</th>\n",
       "      <th id=\"T_eff35_level0_col1\" class=\"col_heading level0 col1\" >Malaysia</th>\n",
       "      <th id=\"T_eff35_level0_col2\" class=\"col_heading level0 col2\" >Philippines</th>\n",
       "      <th id=\"T_eff35_level0_col3\" class=\"col_heading level0 col3\" >Singapore</th>\n",
       "    </tr>\n",
       "    <tr>\n",
       "      <th class=\"index_name level0\" >Gender</th>\n",
       "      <th class=\"blank col0\" >&nbsp;</th>\n",
       "      <th class=\"blank col1\" >&nbsp;</th>\n",
       "      <th class=\"blank col2\" >&nbsp;</th>\n",
       "      <th class=\"blank col3\" >&nbsp;</th>\n",
       "    </tr>\n",
       "  </thead>\n",
       "  <tbody>\n",
       "    <tr>\n",
       "      <th id=\"T_eff35_level0_row0\" class=\"row_heading level0 row0\" >Female</th>\n",
       "      <td id=\"T_eff35_row0_col0\" class=\"data row0 col0\" >11.298610</td>\n",
       "      <td id=\"T_eff35_row0_col1\" class=\"data row0 col1\" >11.316991</td>\n",
       "      <td id=\"T_eff35_row0_col2\" class=\"data row0 col2\" >10.937361</td>\n",
       "      <td id=\"T_eff35_row0_col3\" class=\"data row0 col3\" >11.296709</td>\n",
       "    </tr>\n",
       "    <tr>\n",
       "      <th id=\"T_eff35_level0_row1\" class=\"row_heading level0 row1\" >Male</th>\n",
       "      <td id=\"T_eff35_row1_col0\" class=\"data row1 col0\" >11.359802</td>\n",
       "      <td id=\"T_eff35_row1_col1\" class=\"data row1 col1\" >11.090699</td>\n",
       "      <td id=\"T_eff35_row1_col2\" class=\"data row1 col2\" >10.438934</td>\n",
       "      <td id=\"T_eff35_row1_col3\" class=\"data row1 col3\" >11.033777</td>\n",
       "    </tr>\n",
       "  </tbody>\n",
       "</table>\n"
      ],
      "text/plain": [
       "<pandas.io.formats.style.Styler at 0x7f2c0a7da970>"
      ]
     },
     "execution_count": 42,
     "metadata": {},
     "output_type": "execute_result"
    }
   ],
   "source": [
    "profit_country_gender.style.background_gradient(axis=0)"
   ]
  },
  {
   "cell_type": "code",
   "execution_count": 74,
   "id": "74ed039b",
   "metadata": {
    "ExecuteTime": {
     "end_time": "2023-11-06T09:56:48.817773Z",
     "start_time": "2023-11-06T09:56:48.533418Z"
    },
    "scrolled": true
   },
   "outputs": [
    {
     "data": {
      "image/png": "[encoded data removed]",
      "text/plain": [
       "<Figure size 610.375x500 with 1 Axes>"
      ]
     },
     "metadata": {},
     "output_type": "display_data"
    }
   ],
   "source": [
    "sns.set(style='darkgrid')\n",
    "gen = sns.catplot(\n",
    "      data=df, kind='bar',\n",
    "      x='Country', y='Corrected Net Bill Amount', hue='Gender', \n",
    "      errorbar=None, palette={'Male': 'blue', 'Female': 'red'}, \n",
    "      height=5, alpha=.6\n",
    ")\n",
    "\n",
    "plt.title('Comparison of NBA in dependece on gender')\n",
    "plt.ylim(9,11.5) #для компактнішої візуалізації та підкреслення різниці між показниками для чоловіків та жінок\n",
    "\n",
    "gen.despine(left=True)\n",
    "gen.legend.set_title(\"\")"
   ]
  },
  {
   "cell_type": "markdown",
   "id": "72d1f182",
   "metadata": {},
   "source": [
    "Бачимо, що тільки у випадку Індонезії середнє значення чистого чеку для чоловіків трошки перевищує це значення для жінок. У інших країнах різниця між чоловіками та жінками помітніша, чоловіки поступаються жінкам, що може вказувати або на те, що середній чек дійсно менший для чоловіків,ніж для жінок, або що через брак даних про чоловіків ми не можемо скласти цілісну картину."
   ]
  },
  {
   "cell_type": "markdown",
   "id": "78f68f43",
   "metadata": {},
   "source": [
    "Давайте порахуємо, чи є середні значення чеку для жінок за різними країнами статистично значущо вищі, ніж у чоловіків. \n",
    "\n",
    "Приймемо за нульову гіпотезу те, що не має статистично значущої різниці між середніми чеками чоловіків та жінок за різними країнами. Альтернативна ж гіпотеза буде полягати в тому, що середні чеки жінок більші у всіх країнах, ніж у чоловіків."
   ]
  },
  {
   "cell_type": "code",
   "execution_count": 44,
   "id": "de5ce076",
   "metadata": {
    "ExecuteTime": {
     "end_time": "2023-11-06T09:45:38.304393Z",
     "start_time": "2023-11-06T09:45:38.300748Z"
    }
   },
   "outputs": [],
   "source": [
    "alpha = 0.05\n",
    "\n",
    "female_profit = profit_country_gender.loc['Female']\n",
    "mean_male_profit = profit_country_gender.loc['Male'].mean() #візьмемо середнє для чоловіків за null value"
   ]
  },
  {
   "cell_type": "code",
   "execution_count": 45,
   "id": "33c31d6b",
   "metadata": {
    "ExecuteTime": {
     "end_time": "2023-11-06T09:45:38.314014Z",
     "start_time": "2023-11-06T09:45:38.306348Z"
    }
   },
   "outputs": [],
   "source": [
    "ztest_Score, p_value = ztest(female_profit, value=mean_male_profit, alternative='larger')"
   ]
  },
  {
   "cell_type": "code",
   "execution_count": 46,
   "id": "45ea3663",
   "metadata": {
    "ExecuteTime": {
     "end_time": "2023-11-06T09:45:38.326011Z",
     "start_time": "2023-11-06T09:45:38.315265Z"
    }
   },
   "outputs": [
    {
     "name": "stdout",
     "output_type": "stream",
     "text": [
      "Fail to accept H0.\n"
     ]
    }
   ],
   "source": [
    "if p_value <= alpha:\n",
    "    print('Fail to accept H0.')\n",
    "else:\n",
    "    print('Fail to reject H0.')"
   ]
  },
  {
   "cell_type": "markdown",
   "id": "1efd6003",
   "metadata": {},
   "source": [
    "### Дослідимо кількість товарів, яку замовляють клієнти у нашому наборі даних. Для початку подвимося на те, яка кількість товарів в одному замовленні є найбільш популярною."
   ]
  },
  {
   "cell_type": "code",
   "execution_count": 79,
   "id": "511bc711",
   "metadata": {
    "ExecuteTime": {
     "end_time": "2023-11-06T09:58:05.965307Z",
     "start_time": "2023-11-06T09:58:05.776237Z"
    }
   },
   "outputs": [
    {
     "data": {
      "image/png": "[encoded data removed]",
      "text/plain": [
       "<Figure size 800x400 with 1 Axes>"
      ]
     },
     "metadata": {},
     "output_type": "display_data"
    }
   ],
   "source": [
    "qty_distrib = df.groupby(['QTY'])['QTY'].count().reset_index(name='Count')\n",
    "\n",
    "sns.set(style=\"darkgrid\")\n",
    "plt.figure(figsize=(8, 4))\n",
    "sns.barplot(x='QTY', y='Count', data=qty_distrib, palette=\"coolwarm\")\n",
    "\n",
    "plt.xlabel('Quantity (QTY)')\n",
    "plt.ylabel('Count')\n",
    "plt.title('Quantity Distribution')\n",
    "\n",
    "plt.show()\n"
   ]
  },
  {
   "cell_type": "markdown",
   "id": "15774a5f",
   "metadata": {},
   "source": [
    "Бачимо, ще безумвними лідерами є кількість покупок в один та два товари. \n",
    "Давайте тепер подивимося, яка категорія товарів мала сумарно найбільшу кількість замовленних найменувань."
   ]
  },
  {
   "cell_type": "code",
   "execution_count": 48,
   "id": "31cff592",
   "metadata": {
    "ExecuteTime": {
     "end_time": "2023-11-06T09:45:38.764380Z",
     "start_time": "2023-11-06T09:45:38.512457Z"
    },
    "scrolled": true
   },
   "outputs": [
    {
     "data": {
      "image/png": "[encoded data removed]",
      "text/plain": [
       "<Figure size 800x400 with 1 Axes>"
      ]
     },
     "metadata": {},
     "output_type": "display_data"
    }
   ],
   "source": [
    "sum_qty_by_category = df.groupby('Category')['QTY'].sum().reset_index()\n",
    "\n",
    "sns.set(style=\"darkgrid\")\n",
    "plt.figure(figsize=(8, 4))\n",
    "sns.barplot(x='QTY', y='Category', \n",
    "            data=sum_qty_by_category.sort_values('QTY', ascending=False), \n",
    "            palette=\"coolwarm\"\n",
    ")\n",
    "\n",
    "plt.xlabel('Quantity (QTY)')\n",
    "plt.ylabel('Category')\n",
    "plt.title('Quantity Distribution by Category')\n",
    "\n",
    "plt.show()"
   ]
  },
  {
   "cell_type": "markdown",
   "id": "4aecac0e",
   "metadata": {},
   "source": [
    "Отже, найбільш чисельною категорією є Bakery & Breakfast з невеликим відривом від Frozen, а найменш - Health.\n",
    "Але чи є найбільш чисельні категорії одночасно і найбільш прибуктовими? Одночасно подивимося зміну показників QTY та Profit Margin відповідно до статі."
   ]
  },
  {
   "cell_type": "code",
   "execution_count": 49,
   "id": "ea7f9dd2",
   "metadata": {
    "ExecuteTime": {
     "end_time": "2023-11-06T09:45:38.783433Z",
     "start_time": "2023-11-06T09:45:38.766253Z"
    }
   },
   "outputs": [],
   "source": [
    "category_population_pyramid_qty = df.groupby(['Category', 'Gender'])['QTY'].sum().reset_index()\n",
    "category_population_pyramid_profit = df.groupby(['Category', 'Gender'])['Profit Margin'].sum().reset_index()"
   ]
  },
  {
   "cell_type": "code",
   "execution_count": 171,
   "id": "7e8c4bc3",
   "metadata": {
    "ExecuteTime": {
     "end_time": "2023-11-06T10:47:59.104969Z",
     "start_time": "2023-11-06T10:47:58.454021Z"
    },
    "scrolled": true
   },
   "outputs": [
    {
     "data": {
      "image/png": "[encoded data removed]",
      "text/plain": [
       "<Figure size 1000x800 with 2 Axes>"
      ]
     },
     "metadata": {},
     "output_type": "display_data"
    }
   ],
   "source": [
    "plt.figure(figsize=(10,8))\n",
    "\n",
    "plt.subplot(2, 2, 1)\n",
    "sns.barplot(data=category_population_pyramid_qty.sort_values('QTY', ascending=False),\n",
    "            x='QTY', y='Category', hue='Gender',\n",
    "            orient='horizontal', dodge='Faslse', palette={'Male': 'blue', 'Female': 'red'}, alpha=.4\n",
    ")\n",
    "\n",
    "plt.xlabel('Quantity (QTY)')\n",
    "plt.ylabel('Category')\n",
    "plt.title('Quantity Distribution by Category and Gender');\n",
    "plt.subplot(2, 2, 2)\n",
    "\n",
    "\n",
    "sns.barplot(data=category_population_pyramid_profit.sort_values('Profit Margin', ascending=False),\n",
    "            x='Profit Margin', y='Category', hue='Gender',\n",
    "            orient='horizontal', dodge='Faslse', palette={'Male': 'blue', 'Female': 'red'}, alpha=.4\n",
    ")\n",
    "\n",
    "plt.xlabel('Profit Margin')\n",
    "plt.ylabel('Category')\n",
    "plt.title('Profit Margin Distribution by Category and Gender')\n",
    "plt.tight_layout();"
   ]
  },
  {
   "cell_type": "markdown",
   "id": "a70718e1",
   "metadata": {},
   "source": [
    "Тепер ми маємо трішки іншу ситуацію. У трійку лідерів за прибутковістю, як і у випадку з кількістю товарів, входять Frozen, Beaty i Bakery & Breakfest, а от найменш прибуткові категорії (особливо Rice & Cooking Essentials i Kitchen & Dining) замовляються достатньо часто (вони знаходяться практично по середині минулого графіку). Лише Party Supplies в обох графіках займає однаково третє знизу місце - як за прибутковістю, так і за кількістю товарів.\n",
    "Таким чином, треба звернути увагу на Rice & Cooking Essentials i Kitchen & Dining, які є популярними серед клієнтів (було замовлено велику кількість цих товарів), але вони не є прибутковими. \n",
    "\n",
    "Пропоную подивитися частоту покупок за цими категоріями за різними роками."
   ]
  },
  {
   "cell_type": "code",
   "execution_count": 51,
   "id": "9fdaaa75",
   "metadata": {
    "ExecuteTime": {
     "end_time": "2023-11-06T09:45:39.448256Z",
     "start_time": "2023-11-06T09:45:39.435898Z"
    }
   },
   "outputs": [],
   "source": [
    "max_profit_category = (\n",
    "    df\n",
    "    [df.Category == 'Frozen']\n",
    "    .groupby('Date')\n",
    "    .Category\n",
    "    .count()\n",
    ") \n",
    "\n",
    "min_profit_category = (\n",
    "    df\n",
    "    [df.Category == 'Rice & Cooking Essentials']\n",
    "    .groupby('Date')\n",
    "    .Category\n",
    "    .count()\n",
    ")     "
   ]
  },
  {
   "cell_type": "code",
   "execution_count": 84,
   "id": "b005265e",
   "metadata": {
    "ExecuteTime": {
     "end_time": "2023-11-06T10:00:40.523922Z",
     "start_time": "2023-11-06T10:00:40.224027Z"
    }
   },
   "outputs": [
    {
     "data": {
      "image/png": "[encoded data removed]",
      "text/plain": [
       "<Figure size 1000x400 with 1 Axes>"
      ]
     },
     "metadata": {},
     "output_type": "display_data"
    }
   ],
   "source": [
    "plt.figure(figsize=(10,4))\n",
    "start_date = pd.to_datetime('2019-06-01')\n",
    "max_profit_category[max_profit_category.index >= start_date].plot(label='Frozen')\n",
    "min_profit_category[min_profit_category.index >= start_date].plot(label='Rice & Cooking Essentials')\n",
    "\n",
    "plt.title('Distribution of Profit Margin by Category')\n",
    "plt.ylabel('Profit Margin by Category')\n",
    "plt.legend();"
   ]
  },
  {
   "cell_type": "markdown",
   "id": "92b448c7",
   "metadata": {},
   "source": [
    "За останні піроку для категорії Rice & Cooking Essentials ми не мали серйозних аномальних змін, лише періодичність, яка може бути пов'язана з місячніми змінами або несезонними факторами. Для порівняння можна подивитися на розподіл за часом для найбільш прибуткової категорії - ми бачимо, що зовнішій вигляд кривих дуже схожий, єдина різниця полягає у тому, що у категорії Frozen досягаються значно вищі значення профіту.\n",
    "\n",
    "Тому слід звернути на інші аспекти, які можуть впливати на низьку пробутковість цієї категорії, або зібрати більше специфічної інформації для неї."
   ]
  },
  {
   "cell_type": "markdown",
   "id": "9088849d",
   "metadata": {},
   "source": [
    "### Давайте ще повидимося, яка в нас є залежність між профітом та собівартістю для кожного окремого замовлення. "
   ]
  },
  {
   "cell_type": "code",
   "execution_count": 53,
   "id": "97dfe1c6",
   "metadata": {
    "ExecuteTime": {
     "end_time": "2023-11-06T09:45:41.613953Z",
     "start_time": "2023-11-06T09:45:39.771954Z"
    },
    "scrolled": true
   },
   "outputs": [
    {
     "data": {
      "image/png": "[encoded data removed]",
      "text/plain": [
       "<Figure size 640x480 with 1 Axes>"
      ]
     },
     "metadata": {},
     "output_type": "display_data"
    }
   ],
   "source": [
    "sns.regplot(data=df, x='Product Cost', y='Profit Margin', line_kws={'color':'red', 'linewidth':1}, scatter_kws={'alpha':0.1});\n",
    "plt.title('Profit Margin dependent on Product Cost');"
   ]
  },
  {
   "cell_type": "markdown",
   "id": "922c6b35",
   "metadata": {},
   "source": [
    "За графіком можна побачити, що ми маємо сильну позитивну кореляцію між цими параметрами, що означає, що з ростом собівартості (наприклад, коли ми поліпшуємо товар, робимо його більш якісним, що може призвести до зростання витрат на його виготовлення). Окрім того, дані скупчуються сильніше до кореляційної лінії у нижньому лівому кутку, де ми маємо невеликі собівартості та профіти, що свідчить про ще сильнішу кореляцію саме на цій ділянцію З ростом собівартості ми бачимо, що профіт може відхилятися від лінії, хоча і незначно. Тобто прогнозувати його стане трішки складніше, ніж при низьких собівартостях."
   ]
  },
  {
   "cell_type": "markdown",
   "id": "fcbfa564",
   "metadata": {},
   "source": [
    "Щоб оцінити кореляцію чисельно, можна порахувати коефіцієнт Пірсона. Близкість його значення до 1 свідчить про сильну позитивну кореляцію."
   ]
  },
  {
   "cell_type": "code",
   "execution_count": 54,
   "id": "42808f3e",
   "metadata": {
    "ExecuteTime": {
     "end_time": "2023-11-06T09:45:41.630668Z",
     "start_time": "2023-11-06T09:45:41.615073Z"
    }
   },
   "outputs": [
    {
     "name": "stdout",
     "output_type": "stream",
     "text": [
      "Pearson's Correlation Coefficient: 0.879\n"
     ]
    }
   ],
   "source": [
    "correlation_coefficient, _ = pearsonr(df['Product Cost'],df['Profit Margin'])\n",
    "print(f\"Pearson's Correlation Coefficient: {correlation_coefficient:.3f}\")"
   ]
  },
  {
   "cell_type": "markdown",
   "id": "17465608",
   "metadata": {},
   "source": [
    "Наш коефіцієнт дійсно достатньо близький до 1, що підтверджує ще раз наше припущення."
   ]
  },
  {
   "cell_type": "markdown",
   "id": "f5627466",
   "metadata": {},
   "source": [
    "### Подивимося, на частоту використання різних способів оплати у різних банках. Це може допомогти зорієнтувати наших клієнтів, якщо виникнуть складнощі в оплаті або вони будуть надават перевагу певному способу/оплаті у певному банку."
   ]
  },
  {
   "cell_type": "code",
   "execution_count": 148,
   "id": "282929b7",
   "metadata": {
    "ExecuteTime": {
     "end_time": "2023-11-06T10:36:55.135949Z",
     "start_time": "2023-11-06T10:36:55.119670Z"
    }
   },
   "outputs": [],
   "source": [
    "popular_payment_mode = (df.groupby('Payment Mode')\n",
    "                        [['Bank Name', 'Payment Mode']]\n",
    "                        .value_counts()\n",
    "                        .reset_index(name='Count'))"
   ]
  },
  {
   "cell_type": "code",
   "execution_count": 149,
   "id": "dc368b75",
   "metadata": {
    "ExecuteTime": {
     "end_time": "2023-11-06T10:36:55.571591Z",
     "start_time": "2023-11-06T10:36:55.565229Z"
    }
   },
   "outputs": [
    {
     "data": {
      "text/html": [
       "<div>\n",
       "<style scoped>\n",
       "    .dataframe tbody tr th:only-of-type {\n",
       "        vertical-align: middle;\n",
       "    }\n",
       "\n",
       "    .dataframe tbody tr th {\n",
       "        vertical-align: top;\n",
       "    }\n",
       "\n",
       "    .dataframe thead th {\n",
       "        text-align: right;\n",
       "    }\n",
       "</style>\n",
       "<table border=\"1\" class=\"dataframe\">\n",
       "  <thead>\n",
       "    <tr style=\"text-align: right;\">\n",
       "      <th></th>\n",
       "      <th>Payment Mode</th>\n",
       "      <th>Bank Name</th>\n",
       "      <th>Count</th>\n",
       "    </tr>\n",
       "  </thead>\n",
       "  <tbody>\n",
       "    <tr>\n",
       "      <th>0</th>\n",
       "      <td>Card</td>\n",
       "      <td>BDO Unibank</td>\n",
       "      <td>3609</td>\n",
       "    </tr>\n",
       "    <tr>\n",
       "      <th>1</th>\n",
       "      <td>Card</td>\n",
       "      <td>Philippine Veterans Bank</td>\n",
       "      <td>3488</td>\n",
       "    </tr>\n",
       "    <tr>\n",
       "      <th>2</th>\n",
       "      <td>Card</td>\n",
       "      <td>ING Bank</td>\n",
       "      <td>3453</td>\n",
       "    </tr>\n",
       "    <tr>\n",
       "      <th>3</th>\n",
       "      <td>Card</td>\n",
       "      <td>Enterprise Bank</td>\n",
       "      <td>3322</td>\n",
       "    </tr>\n",
       "    <tr>\n",
       "      <th>4</th>\n",
       "      <td>Card</td>\n",
       "      <td>Philippine National bank</td>\n",
       "      <td>3173</td>\n",
       "    </tr>\n",
       "  </tbody>\n",
       "</table>\n",
       "</div>"
      ],
      "text/plain": [
       "  Payment Mode                 Bank Name  Count\n",
       "0         Card               BDO Unibank   3609\n",
       "1         Card  Philippine Veterans Bank   3488\n",
       "2         Card                  ING Bank   3453\n",
       "3         Card           Enterprise Bank   3322\n",
       "4         Card  Philippine National bank   3173"
      ]
     },
     "execution_count": 149,
     "metadata": {},
     "output_type": "execute_result"
    }
   ],
   "source": [
    "popular_payment_mode.head()"
   ]
  },
  {
   "cell_type": "code",
   "execution_count": 174,
   "id": "70554108",
   "metadata": {
    "ExecuteTime": {
     "end_time": "2023-11-06T10:49:17.574393Z",
     "start_time": "2023-11-06T10:49:17.162830Z"
    },
    "code_folding": []
   },
   "outputs": [
    {
     "data": {
      "image/png": "[encoded data removed]",
      "text/plain": [
       "<Figure size 935.597x800 with 1 Axes>"
      ]
     },
     "metadata": {},
     "output_type": "display_data"
    }
   ],
   "source": [
    "bank = sns.catplot(\n",
    "    data=popular_payment_mode, kind='bar',\n",
    "    x='Count', y='Bank Name',\n",
    "    hue='Payment Mode', height=8, alpha=.4,\n",
    "    palette={'Cash': 'blue', 'Card': 'red', 'Wallet': 'green'}\n",
    "    )\n",
    "\n",
    "bank.despine(left=True)\n",
    "\n",
    "plt.show()"
   ]
  },
  {
   "cell_type": "markdown",
   "id": "991a138d",
   "metadata": {},
   "source": [
    "Серед всього списку банків є кілька, що явно лідують по всім видам оплати. Імовірніше за все, через ці банки було проведено найбільшу кількість покупок."
   ]
  }
 ],
 "metadata": {
  "kernelspec": {
   "display_name": "Python 3 (ipykernel)",
   "language": "python",
   "name": "python3"
  },
  "language_info": {
   "codemirror_mode": {
    "name": "ipython",
    "version": 3
   },
   "file_extension": ".py",
   "mimetype": "text/x-python",
   "name": "python",
   "nbconvert_exporter": "python",
   "pygments_lexer": "ipython3",
   "version": "3.9.12"
  },
  "toc": {
   "base_numbering": 1,
   "nav_menu": {},
   "number_sections": true,
   "sideBar": true,
   "skip_h1_title": false,
   "title_cell": "Table of Contents",
   "title_sidebar": "Contents",
   "toc_cell": false,
   "toc_position": {
    "height": "calc(100% - 180px)",
    "left": "10px",
    "top": "150px",
    "width": "370px"
   },
   "toc_section_display": true,
   "toc_window_display": false
  }
 },
 "nbformat": 4,
 "nbformat_minor": 5
}
